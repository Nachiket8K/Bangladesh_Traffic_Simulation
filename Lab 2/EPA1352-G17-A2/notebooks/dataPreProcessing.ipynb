{
 "cells": [
  {
   "cell_type": "code",
   "execution_count": 1,
   "id": "222e991f-3bd7-4448-b2b6-7b8c998fbab9",
   "metadata": {},
   "outputs": [],
   "source": [
    "import pandas as pd\n",
    "import numpy as np\n",
    "import math\n",
    "import seaborn as sns\n",
    "import matplotlib.pyplot as plt\n"
   ]
  },
  {
   "cell_type": "code",
   "execution_count": null,
   "id": "841bdf0c-1826-4766-9876-2e0411703ff0",
   "metadata": {},
   "outputs": [],
   "source": [
    "# Load the Excel file into a Pandas dataframe\n",
    "road = pd.read_csv('../data/raw/_roads3.csv')\n",
    "bridge=pd.read_excel('../data/raw/BMMS_overview.xlsx')"
   ]
  },
  {
   "cell_type": "code",
   "execution_count": null,
   "id": "e9e5177f-c6b0-46d1-bed8-aa7db0d6bf7b",
   "metadata": {},
   "outputs": [],
   "source": [
    "N1Road=road.loc[road.road=='N1']\n",
    "N1Bridge=bridge.loc[bridge.road=='N1']"
   ]
  },
  {
   "cell_type": "code",
   "execution_count": null,
   "id": "a31c226f-fbdd-4c86-9300-1010b226af55",
   "metadata": {},
   "outputs": [],
   "source": [
    "N1Road.head()"
   ]
  },
  {
   "cell_type": "code",
   "execution_count": null,
   "id": "239f11ba-7a70-49ee-8934-0c59b7bdbe07",
   "metadata": {},
   "outputs": [],
   "source": [
    "N1Bridge.tail()"
   ]
  },
  {
   "cell_type": "code",
   "execution_count": null,
   "id": "7770d149-f629-4551-9392-95952e2d0630",
   "metadata": {},
   "outputs": [],
   "source": [
    "N1Bridge = N1Bridge[[\"road\", \"LRPName\", \"condition\", \"length\", \"chainage\", \"lat\", \"lon\", 'name', 'km','constructionYear']]"
   ]
  },
  {
   "cell_type": "code",
   "execution_count": null,
   "id": "67e9fe39-fa45-4977-aed2-37a30ead08a5",
   "metadata": {},
   "outputs": [],
   "source": []
  },
  {
   "cell_type": "code",
   "execution_count": null,
   "id": "1219d0e6-d97a-42b9-baa4-ccf410e1867c",
   "metadata": {},
   "outputs": [],
   "source": [
    "highList=pd.unique(N1Road.road)"
   ]
  },
  {
   "cell_type": "code",
   "execution_count": null,
   "id": "cfb26492-5dfe-4270-8648-6e4c8967b1c9",
   "metadata": {},
   "outputs": [],
   "source": [
    "lrpRoad=pd.unique(N1Road.lrp)\n",
    "lrpBridge=pd.unique(N1Bridge.LRPName)\n",
    "count=0\n",
    "missing=[]\n",
    "for i in lrpBridge:\n",
    "\tif i in lrpRoad:\n",
    "\t\tcount+=1\n",
    "\telse:\n",
    "\t\tmissing.append(i)\n",
    "print('Number of Coinciding bridges and Road LRPs is : '+str(count))\n",
    "print('Number of Bridges is : '+str(len(lrpBridge)))\n",
    "print('Number of Roads is : '+str(len(lrpRoad)))\n",
    "print('Number of bridges without road LRPs : '+str(len(lrpBridge)-count))\n",
    "#missing"
   ]
  },
  {
   "cell_type": "code",
   "execution_count": null,
   "id": "cefecafa-b9fe-4287-9454-520de3ff522b",
   "metadata": {},
   "outputs": [],
   "source": [
    "N1Bridge['Duplicated'] =N1Bridge.duplicated(subset=['LRPName'])\n",
    "N1Road['Duplicated']=N1Road.duplicated(subset=['lrp'])"
   ]
  },
  {
   "cell_type": "code",
   "execution_count": null,
   "id": "f3ad53d4-4732-4334-9d7a-95c9183a4e60",
   "metadata": {},
   "outputs": [],
   "source": [
    "doubles=[]\n",
    "for i in N1Bridge.index:\n",
    "    if N1Bridge.loc[i,'Duplicated'] ==True:\n",
    "        doubles.append(N1Bridge.loc[i,'LRPName'])\n",
    "#doubles"
   ]
  },
  {
   "cell_type": "code",
   "execution_count": null,
   "id": "56f7097c-f041-4ec0-9008-c07685902bd7",
   "metadata": {},
   "outputs": [],
   "source": [
    "given_value = 'LRP021c'\n",
    "\n",
    "# find the index of the given value\n",
    "idx = N1Bridge[N1Bridge['LRPName'] == given_value].index[0]\n",
    "\n",
    "# print the two values above and below the given value\n",
    "print(N1Bridge.iloc[max(idx-2, 0):idx+3])"
   ]
  },
  {
   "cell_type": "code",
   "execution_count": null,
   "id": "77a7a990-20fe-4712-94f0-817ce8fac97d",
   "metadata": {},
   "outputs": [],
   "source": [
    "venn=[]\n",
    "for i in missing:\n",
    "    if i in doubles:\n",
    "        venn.append(i)"
   ]
  },
  {
   "cell_type": "code",
   "execution_count": null,
   "id": "6224e189-8d51-4acf-b24c-ec8f1f6437ed",
   "metadata": {},
   "outputs": [],
   "source": [
    "len(venn)"
   ]
  },
  {
   "cell_type": "code",
   "execution_count": null,
   "id": "b31d9fa8-537b-449f-8267-9250963559b1",
   "metadata": {},
   "outputs": [],
   "source": [
    "N1Road[\"chainage\"] = N1Road[\"chainage\"].astype(float)\n",
    "N1Road[\"length\"] = N1Road[\"chainage\"]*1000 # 20.11680"
   ]
  },
  {
   "cell_type": "code",
   "execution_count": null,
   "id": "15221a80-42f3-4d12-a442-4868946ff8e3",
   "metadata": {},
   "outputs": [],
   "source": [
    "for i in range((len(N1Road[\"length\"])-1),0,-1):\n",
    "    N1Road.loc[i,\"length\"] = N1Road.loc[i,\"length\"]-N1Road.loc[i-1,\"length\"]"
   ]
  },
  {
   "cell_type": "code",
   "execution_count": null,
   "id": "3116d2db-585e-4ab3-a3f9-3cbe45734b3a",
   "metadata": {},
   "outputs": [],
   "source": [
    "BridgeN1 = N1Bridge.loc[(N1Bridge[\"chainage\"] < 241)]\n",
    "BridgeN1 = BridgeN1.reset_index(drop=True)"
   ]
  },
  {
   "cell_type": "code",
   "execution_count": null,
   "id": "5ba1d83b-54c5-44cb-8a1f-4cd824c5d828",
   "metadata": {},
   "outputs": [],
   "source": [
    "temp=[]\n",
    "for i in range(1,len(BridgeN1[\"road\"])):\n",
    "    if len(BridgeN1[\"name\"][i]) > 4:\n",
    "        #temp.append(BridgesN1['name'])     #to see the names of the bridges and identify right and left side and how they occur\n",
    "        if BridgeN1[\"name\"][i][-2:] == 'L)' or BridgeN1[\"name\"][i][-4:] == 'eft)' or BridgeN1[\"name\"][i][-3:] == 'L )' or BridgeN1[\"name\"][i][-4:] == 'EFT)':\n",
    "            #print(BridgesN1['name'][i][-3:])        #tinker with the last bracket to see the end of the names\n",
    "            BridgeN1 = BridgeN1.drop(i,axis = 0)\n",
    "        \n",
    "         "
   ]
  },
  {
   "cell_type": "code",
   "execution_count": null,
   "id": "60062916-2ec3-464b-8372-afa831da87e6",
   "metadata": {},
   "outputs": [],
   "source": [
    "BridgeN1.shape"
   ]
  },
  {
   "cell_type": "code",
   "execution_count": null,
   "id": "db1e9b74-bee4-4f7f-8aa7-7b56b3d15a56",
   "metadata": {},
   "outputs": [],
   "source": [
    "BridgeN1 = BridgeN1.sort_values(by=['road','km','constructionYear'], ascending=False) \n",
    "BridgeN1 = BridgeN1.drop_duplicates(subset=['road', 'km'], keep='first')"
   ]
  },
  {
   "cell_type": "code",
   "execution_count": null,
   "id": "169d0d51-26dd-4825-a43c-48d114bac883",
   "metadata": {},
   "outputs": [],
   "source": [
    "BridgeN1.shape"
   ]
  },
  {
   "cell_type": "code",
   "execution_count": null,
   "id": "21fe8796-f14a-4861-9ec9-bd6c73719e97",
   "metadata": {},
   "outputs": [],
   "source": [
    "BridgeN1 = BridgeN1.rename(columns={\"LRPName\": \"lrp\"})"
   ]
  },
  {
   "cell_type": "code",
   "execution_count": null,
   "id": "d090a54a-dfb9-44e1-92d4-711aa09558f7",
   "metadata": {},
   "outputs": [],
   "source": [
    "N1 = pd.merge(N1Road, BridgeN1, how=\"outer\", on=[\"road\", \"lrp\", \"length\", \"lat\", \"lon\", \"chainage\"])"
   ]
  },
  {
   "cell_type": "code",
   "execution_count": null,
   "id": "a460957b-ce94-48b9-ba6a-2aa2f4e2c1c4",
   "metadata": {},
   "outputs": [],
   "source": [
    "N1.head()"
   ]
  },
  {
   "cell_type": "code",
   "execution_count": null,
   "id": "bf73c082-5e87-4d64-820e-328a64801561",
   "metadata": {},
   "outputs": [],
   "source": [
    "# add type of road/bridge\n",
    "N1[\"model_type\"] = N1[\"lrp\"].apply(lambda x: \"sink\" if x == \"LRPS\" else (\"source\" if x == \"LRPE\" else \"link\"))\n",
    "N1.loc[N1[\"condition\"].notnull(), \"model_type\"] = \"bridge\""
   ]
  },
  {
   "cell_type": "code",
   "execution_count": null,
   "id": "d170e993-7d84-4e97-94bb-b8e1036c287b",
   "metadata": {},
   "outputs": [],
   "source": [
    "N1 = N1.sort_values(by=['road','chainage'],ascending = False)"
   ]
  },
  {
   "cell_type": "code",
   "execution_count": null,
   "id": "6157435d-40fe-4606-90b8-624492f2770b",
   "metadata": {},
   "outputs": [],
   "source": [
    "N1 = N1[2:]\n",
    "N1 = N1.reset_index(drop=True)"
   ]
  },
  {
   "cell_type": "code",
   "execution_count": null,
   "id": "80a167e1-31b6-4f09-9b90-2a22a399dca4",
   "metadata": {},
   "outputs": [],
   "source": [
    "N1.loc[0,\"model_type\"] = \"source\""
   ]
  },
  {
   "cell_type": "code",
   "execution_count": null,
   "id": "3f2ea7ee-2959-4267-9465-b407ebe96074",
   "metadata": {},
   "outputs": [],
   "source": [
    "N1[\"bridge_name\"] = N1[\"name_y\"]\n",
    "N1[\"name_y\"] = N1[\"model_type\"]"
   ]
  },
  {
   "cell_type": "code",
   "execution_count": null,
   "id": "892aea54-d002-4d38-af99-0cf45a203baa",
   "metadata": {},
   "outputs": [],
   "source": [
    "N1[\"id\"] = range(len(N1))"
   ]
  },
  {
   "cell_type": "code",
   "execution_count": null,
   "id": "3240e289-f273-430a-8e83-8e12ef869b46",
   "metadata": {},
   "outputs": [],
   "source": [
    "N1.head()"
   ]
  },
  {
   "cell_type": "code",
   "execution_count": null,
   "id": "4a22dda1-7900-4533-932a-8336964b65c8",
   "metadata": {},
   "outputs": [],
   "source": [
    "N1 = N1[[\"road\", \"id\", \"model_type\", \"name_y\", \"lat\", \"lon\", \"length\", \"condition\", \"bridge_name\"]]"
   ]
  },
  {
   "cell_type": "code",
   "execution_count": null,
   "id": "ae73e90b-6460-47a7-91f4-484b51495464",
   "metadata": {},
   "outputs": [],
   "source": [
    "N1 = N1.rename(columns={\"name_y\": \"name\"})"
   ]
  },
  {
   "cell_type": "code",
   "execution_count": null,
   "id": "00412a92-38f8-474e-ac6c-804c889f0664",
   "metadata": {},
   "outputs": [],
   "source": [
    "N1[N1[\"road\"] == \"N1\"].to_csv(\"../data/processed/N1.csv\", index=None)"
   ]
  },
  {
   "cell_type": "code",
   "execution_count": null,
   "id": "628f0f0c-2ea5-4072-8e0b-7c6e8a994baf",
   "metadata": {},
   "outputs": [],
   "source": []
  },
  {
   "cell_type": "code",
   "execution_count": null,
   "id": "ddac8fa7-96fc-47d4-8e29-104d7b4e1c7f",
   "metadata": {},
   "outputs": [],
   "source": [
    "N1Road=road.loc[road.road=='N1']"
   ]
  },
  {
   "cell_type": "code",
   "execution_count": null,
   "id": "182e26ba-d166-4801-b870-49d7effb26f9",
   "metadata": {},
   "outputs": [],
   "source": [
    "N1Road[\"chainage\"] = N1Road[\"chainage\"].astype(float)\n",
    "N1Road[\"length\"] = N1Road[\"chainage\"]*1000 # 20.11680"
   ]
  },
  {
   "cell_type": "code",
   "execution_count": null,
   "id": "19ce4594-847f-4588-b5bd-cb865c874569",
   "metadata": {},
   "outputs": [],
   "source": [
    "for i in range((len(N1Road[\"length\"])-1),0,-1):\n",
    "    N1Road.loc[i,\"length\"] = N1Road.loc[i,\"length\"]-N1Road.loc[i-1,\"length\"]"
   ]
  },
  {
   "cell_type": "code",
   "execution_count": null,
   "id": "b4cc6768-3a84-4db0-acd3-c573f0b907d1",
   "metadata": {},
   "outputs": [],
   "source": [
    "N1Road.head()"
   ]
  },
  {
   "cell_type": "code",
   "execution_count": null,
   "id": "54116ee8-c437-4c5b-801d-2444d5c9bca3",
   "metadata": {
    "tags": []
   },
   "outputs": [],
   "source": [
    "N1Road['id'] = N1Road.index\n",
    "N1Road['model_type'] = 'link'\n",
    "N1Road.loc[N1Road['gap'] == 'BS', 'model_type'] = 'bridge'\n"
   ]
  },
  {
   "cell_type": "code",
   "execution_count": null,
   "id": "9abadfc8-0c55-4104-a808-7168360bbbaa",
   "metadata": {},
   "outputs": [],
   "source": [
    "N1Road.head(16)"
   ]
  },
  {
   "cell_type": "code",
   "execution_count": null,
   "id": "89670e74-0a88-46c1-816e-d33454d97748",
   "metadata": {},
   "outputs": [],
   "source": [
    "N1Road=N1Road[[\"road\",\"lrp\", \"id\", \"model_type\", \"name\", \"lat\", \"lon\", \"length\"]]"
   ]
  },
  {
   "cell_type": "code",
   "execution_count": null,
   "id": "a42dda83-9e40-49ae-a7a9-3ccb28335cf1",
   "metadata": {},
   "outputs": [],
   "source": []
  },
  {
   "cell_type": "code",
   "execution_count": null,
   "id": "5ff9b556-2857-40a3-9caa-8275db1fa0bb",
   "metadata": {},
   "outputs": [],
   "source": [
    "N1Road=N1Road[[\"road\", \"id\", \"model_type\", \"name\", \"lat\", \"lon\", \"length\"]]"
   ]
  },
  {
   "cell_type": "code",
   "execution_count": null,
   "id": "20120c86-a05f-4f73-bdfa-0b34030e12f0",
   "metadata": {},
   "outputs": [],
   "source": [
    "N1Road.tail()"
   ]
  },
  {
   "cell_type": "code",
   "execution_count": null,
   "id": "c7277937-11e1-4c4c-8e6e-a01b8d6020c0",
   "metadata": {},
   "outputs": [],
   "source": [
    "N1Road.loc[0,\"model_type\"] = \"sink\"\n",
    "N1Road.loc[1338,\"model_type\"] = \"source\"\n",
    "N1Road.head()"
   ]
  },
  {
   "cell_type": "code",
   "execution_count": null,
   "id": "a2093b89-83a9-4af7-be15-53966be6b8da",
   "metadata": {},
   "outputs": [],
   "source": [
    "N1Road = N1Road.sort_values(by=['road','id'],ascending = False)\n",
    "N1Road = N1Road.reset_index(drop=True)\n",
    "N1Road['id'] = N1Road.index"
   ]
  },
  {
   "cell_type": "code",
   "execution_count": null,
   "id": "d569b345-8050-41df-8d69-b89c0624d3ed",
   "metadata": {},
   "outputs": [],
   "source": [
    "N1Road.head()"
   ]
  },
  {
   "cell_type": "code",
   "execution_count": null,
   "id": "6cdab405-4bdc-4457-b27e-1f4a3fa1f29f",
   "metadata": {},
   "outputs": [],
   "source": [
    "N1Road[N1Road[\"road\"] == \"N1\"].to_csv(\"../data/processed/N1trial.csv\", index=None)"
   ]
  }
 ],
 "metadata": {
  "kernelspec": {
   "display_name": "Python 3 (ipykernel)",
   "language": "python",
   "name": "python3"
  },
  "language_info": {
   "codemirror_mode": {
    "name": "ipython",
    "version": 3
   },
   "file_extension": ".py",
   "mimetype": "text/x-python",
   "name": "python",
   "nbconvert_exporter": "python",
   "pygments_lexer": "ipython3",
   "version": "3.9.15"
  }
 },
 "nbformat": 4,
 "nbformat_minor": 5
}
