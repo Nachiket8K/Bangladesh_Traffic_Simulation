{
 "cells": [
  {
   "cell_type": "code",
   "execution_count": null,
   "id": "b622a664-6a2b-4982-a3ad-5f7d6f41e2fc",
   "metadata": {},
   "outputs": [],
   "source": [
    "from bs4 import BeautifulSoup \n",
    "\n",
    "# Reading the data inside the xml file to a variable under the name  data\n",
    "with open('log4j2.xml', 'r') as f:\n",
    "    data = f.read() \n"
   ]
  }
 ],
 "metadata": {
  "kernelspec": {
   "display_name": "Python 3 (ipykernel)",
   "language": "python",
   "name": "python3"
  },
  "language_info": {
   "codemirror_mode": {
    "name": "ipython",
    "version": 3
   },
   "file_extension": ".py",
   "mimetype": "text/x-python",
   "name": "python",
   "nbconvert_exporter": "python",
   "pygments_lexer": "ipython3",
   "version": "3.9.15"
  }
 },
 "nbformat": 4,
 "nbformat_minor": 5
}
