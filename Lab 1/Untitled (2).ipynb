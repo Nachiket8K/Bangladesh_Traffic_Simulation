{
 "cells": [
  {
   "cell_type": "code",
   "execution_count": 8,
   "id": "56c72e93-56f5-4f24-8513-89ccd855ac3c",
   "metadata": {},
   "outputs": [
    {
     "name": "stderr",
     "output_type": "stream",
     "text": [
      "C:\\Users\\nachi\\AppData\\Local\\Temp\\ipykernel_16488\\3422142700.py:5: UserWarning: Shapely 2.0 is installed, but because PyGEOS is also installed, GeoPandas will still use PyGEOS by default for now. To force to use and test Shapely 2.0, you have to set the environment variable USE_PYGEOS=0. You can do this before starting the Python process, or in your code before importing geopandas:\n",
      "\n",
      "import os\n",
      "os.environ['USE_PYGEOS'] = '0'\n",
      "import geopandas\n",
      "\n",
      "In a future release, GeoPandas will switch to using Shapely by default. If you are using PyGEOS directly (calling PyGEOS functions on geometries from GeoPandas), this will then stop working and you are encouraged to migrate from PyGEOS to Shapely 2.0 (https://shapely.readthedocs.io/en/latest/migration_pygeos.html).\n",
      "  import geopandas as gpd\n"
     ]
    }
   ],
   "source": [
    "import pandas as pd\n",
    "import numpy as np\n",
    "import seaborn as sns\n",
    "import matplotlib.pyplot as plt\n",
    "import geopandas as gpd"
   ]
  },
  {
   "cell_type": "code",
   "execution_count": 3,
   "id": "4e188048",
   "metadata": {},
   "outputs": [],
   "source": [
    "df = pd.read_excel('AdvancedSimulation/Roads_InfoAboutEachLRP.xlsx')\n",
    "bridges1 = pd.read_excel('AdvancedSimulation/Bridges.xlsx')\n",
    "bridge2 = pd.read_excel('AdvancedSimulation/BMMS_overview.xlsx')\n",
    "waters =  pd.read_excel('AdvancedSimulation/WaterwayTypes.xlsx')"
   ]
  },
  {
   "cell_type": "code",
   "execution_count": 13,
   "id": "d11cf43c",
   "metadata": {},
   "outputs": [
    {
     "data": {
      "text/plain": [
       "(52295, 7)"
      ]
     },
     "execution_count": 13,
     "metadata": {},
     "output_type": "execute_result"
    }
   ],
   "source": [
    "df.shape"
   ]
  },
  {
   "cell_type": "code",
   "execution_count": 20,
   "id": "eca53aba-4353-4e3f-a634-8ffb88368181",
   "metadata": {},
   "outputs": [
    {
     "name": "stdout",
     "output_type": "stream",
     "text": [
      "['N1' 'N101' 'N102' 'N103' 'N104' 'N105' 'N106' nan 'N107' 'N108' 'N109'\n",
      " 'N110' 'N111' 'N112' 'N119' 'N120' 'N123' 'N124' 'N125' 'N126' 'N127'\n",
      " 'N128' 'N129' 'N2' 'N203' 'N204' 'N205' 'N206' 'N207' 'N208' 'N209'\n",
      " 'N210' 'N211' 'N212' 'N213' 'N3' 'N302' 'N303' 'N309' 'N4' 'N401' 'N402'\n",
      " 'N403' 'N404' 'N405' 'N406' 'N407' 'N408' 'N5' 'N501' 'N502' 'N503'\n",
      " 'N504' 'N505' 'N506' 'N507' 'N508' 'N509' 'N510' 'N511' 'N513' 'N514'\n",
      " 'N515' 'N516' 'N517' 'N518' 'N519' 'N520' 'N540' 'N6' 'N602' 'N603'\n",
      " 'N604' 'N605' 'N7' 'N701' 'N702' 'N703' 'N704' 'N705' 'N706' 'N707'\n",
      " 'N708' 'N709' 'N710' 'N711' 'N712' 'N715' 'N8' 'N801' 'N802' 'N803'\n",
      " 'N804' 'N805' 'N806' 'N808' 'N809' 'R110' 'R111' 'R112' 'R113' 'R114'\n",
      " 'R120' 'R140' 'R141' 'R142' 'R143' 'R144' 'R145' 'R147' 'R151' 'R152'\n",
      " 'R160' 'R161' 'R162' 'R163' 'R164' 'R170' 'R171' 'R172' 'R180' 'R201'\n",
      " 'R202' 'R203' 'R210' 'R211' 'R212' 'R220' 'R221' 'R222' 'R240' 'R241'\n",
      " 'R247' 'R248' 'R249' 'R250' 'R251' 'R280' 'R281' 'R282' 'R283' 'R301'\n",
      " 'R302' 'R303' 'R310' 'R311' 'R312' 'R313' 'R314' 'R315' 'R316' 'R317'\n",
      " 'R360' 'R364' 'R370' 'R371' 'R372' 'R450' 'R451' 'R460' 'R480' 'R504'\n",
      " 'R506' 'R543' 'R544' 'R545' 'R546' 'R547' 'R548' 'R549' 'R550' 'R555'\n",
      " 'R556' 'R557' 'R558' 'R560' 'R570' 'R585' 'R586' 'R587' 'R601' 'R602'\n",
      " 'R603' 'R604' 'R605' 'R681' 'R682' 'R685' 'Naogaon RHD starts\"' 'R710'\n",
      " 'R711' 'R712' 'R713' 'R720' 'R743' 'R745' 'R746' 'R747' 'R748' 'R749'\n",
      " 'R755' 'R760' 'R765' 'R770' 'R771' 'R772' 'R802' 'R810' 'R812' 'R813'\n",
      " 'R814' 'R820' 'R821' 'R822' 'R850' 'R851' 'R860' 'R861' 'R870' 'R880'\n",
      " 'R881' 'R890' 'R891' 'Z1001' 'Z1002' 'Z1004' 'Z1005' 'Z1007' 'Z1008'\n",
      " 'Z1009' 'Z1012' 'Z1013' 'Z1016' 'Z1017' 'Z1018' 'Z1019' 'Z1021' 'Z1022'\n",
      " 'Z1025' 'Z1026' 'Z1028' 'Z1029' 'Z1030' 'Z1031' 'Z1032' 'Z1033' 'Z1034'\n",
      " 'Z1035' 'Z1036' 'Z1037' 'Z1038' 'Z1039' 'Z1040' 'Z1041' 'Z1042' 'Z1043'\n",
      " 'Z1044' 'Z1045' 'Z1046' 'Z1049\"' 'Z1047' 'Z1048' 'Z1049' 'Z1050' 'Z1051'\n",
      " 'Z1052' 'Z1053' 'Z1054' 'Z1055' 'Z1056' 'Z1057' 'Z1059' 'Z1060' 'Z1061'\n",
      " 'Z1062' 'Z1063' 'Z1064' 'Z1065' 'Z1066' 'Z1069' 'Z1070' 'Z1071' 'Z1075'\n",
      " 'Z1076' 'Z1081' 'Z1083' 'Z1084' 'Z1086' 'Z1087' 'Z1088' 'Z1089' 'Z1095'\n",
      " 'Z1098' 'Z1099' 'Z1101' 'Z1102' 'Z1121' 'Z1122' 'Z1123' 'Z1124' 'Z1125'\n",
      " 'Z1126' 'Z1127' 'Z1128' 'Z1129' 'Z1130' 'Z1131' 'Z1132' 'Z1133' 'Z1134'\n",
      " 'Z1135' 'Z1136' 'Z1201' 'Z1202' 'Z1205' 'Z1206' 'Z1210' 'Z1216' 'Z1219'\n",
      " 'Z1220' 'Z1221' 'Z1401' 'Z1402' 'Z1403' 'Z1405' 'Z1407' 'Z1411' 'Z1412'\n",
      " 'Z1413' 'Z1414' 'Z1415' 'Z1416' 'Z1417' 'Z1420' 'Z1421' 'Z1422' 'Z1423'\n",
      " 'Z1424' 'Z1425' 'Z1426' 'Z1429' 'Z1430' 'Z1432' 'Z1433' 'Z1434' 'Z1436'\n",
      " 'Z1437' 'Z1438' 'Z1439' 'Z1440' 'Z1441' 'Z1442' 'Z1443' 'Z1444' 'Z1445'\n",
      " 'Z1447' 'Z1448' 'Z1449' 'Z1450' 'Z1452' 'Z1466' 'Z1472' 'Z1482' 'Z1504'\n",
      " 'Z1508' 'Z1510' 'Z1601' 'Z1602' 'Z1603' 'Z1604' 'Z1605' 'Z1606' 'Z1608'\n",
      " 'Z1610' 'Z1611' 'Z1612' 'Z1617' 'Z1618' 'Z1619' 'Z1620' 'Z1623' 'Z1629'\n",
      " 'Z1636' 'Z1637' 'Z1703' 'Z1802' 'Z1804' 'Z1811' 'Z1812' 'Z1813' 'Z1814'\n",
      " 'Z1824' 'Z2002' 'Z2003' 'Z2008' 'Z2009' 'Z2010' 'Z2011' 'Z2012' 'Z2013'\n",
      " 'Z2014' 'Z2016' 'Z2020' 'Z2031' 'Z2032' 'Z2034' 'Z2035' 'Z2036' 'Z2037'\n",
      " 'Z2038' 'Z2039' 'Z2041' 'Z2042' 'Z2044' 'Z2045' 'Z2047' 'Z2048' 'Z2049'\n",
      " 'Z2055' 'Z2115' 'Z2121' 'Z2122' 'Z2123' 'Z2403' 'Z2405' 'Z2801' 'Z2802'\n",
      " 'Z2804' 'Z2805' 'Z2806' 'Z2807' 'Z2808' 'Z2809' 'Z2810' 'Z2811' 'Z2812'\n",
      " 'Z2813' 'Z2822' 'Z2823' 'Z2824' 'Z2831' 'Z2832' 'Z2834' 'Z3002' 'Z3003'\n",
      " 'Z3004' 'Z3005' 'Z3006' 'Z3007' 'Z3008' 'Z3009' 'Z3010' 'Z3012' 'Z3024'\n",
      " 'Z3025' 'Z3026' 'Z3030' 'Z3031' 'Z3032' 'Z3033' 'Z3034' 'Z3035' 'Z3036'\n",
      " 'Z3037' 'Z3038' 'Z3039' 'Z3040' 'Z3041' 'Z3042' 'Z3601' 'Z3602' 'Z3603'\n",
      " 'Z3604' 'Z3605' 'Z3607' 'Z3608' 'Z3609' 'Z3615' 'Z3616' 'Z3617' 'Z3623'\n",
      " 'Z3701' 'Z3703' 'Z3704' 'Z3705' 'Z3706' 'Z3707' 'Z3708' 'Z3709' 'Z3710'\n",
      " 'Z3711' 'Z3712' 'Z3713' 'Z4007' 'Z4009' 'Z4011' 'Z4012' 'Z4015' 'Z4016'\n",
      " 'Z4017' 'Z4018' 'Z4019' 'Z4020' 'Z4021' 'Z4022' 'Z4023' 'Z4024' 'Z4025'\n",
      " 'Z4101' 'Z4104' 'Z4105' 'Z4602' 'Z4603' 'Z4604' 'Z4605' 'Z4606' 'Z4607'\n",
      " 'Z4608' 'Z4609' 'Z4610' 'Z4614' 'Z4615' 'Z4616' 'Z4617' 'Z4619' 'Z4622'\n",
      " 'Z4801' 'Z5001' 'Z5002' 'Z5003' 'Z5004' 'Z5005' 'Z5006' 'Z5007' 'Z5008'\n",
      " 'Z5009' 'Z5010' 'Z5011' 'Z5012' 'Z5014' 'Z5015' 'Z5018' 'Z5019' 'Z5020'\n",
      " 'Z5021' 'Z5022' 'Z5023' 'Z5024' 'Z5025' 'Z5026' 'Z5029' 'Z5032' 'Z5034'\n",
      " 'Z5035' 'Z5039' 'Z5040' 'Z5041' 'Z5042' 'Z5043' 'Z5044' 'Z5046' 'Z5047'\n",
      " 'Z5048' 'Z5049' 'Z5050' 'Z5051' 'Z5053' 'Z5054' 'Z5055' 'Z5058' 'Z5059'\n",
      " 'Z5060' 'Z5061' 'Z5062' 'Z5063' 'Z5064' 'Z5066' 'Z5069' 'Z5070' 'Z5072'\n",
      " 'Z5074' 'Z5075' 'Z5080' 'Z5202' 'Z5207' 'Z5209' 'Z5210' 'Z5211' 'Z5212'\n",
      " 'Z5301' 'Z5401' 'Z5402' 'Z5403' 'Z5404' 'Z5405' 'Z5406' 'Z5408' 'Z5409'\n",
      " 'Z5410' 'Z5452' 'Z5456' 'Z5463' 'Z5464' 'Z5467' 'Z5469' 'Z5471' 'Z5472'\n",
      " 'Z5476' 'Z5501' 'Z5503' 'Z5504' 'Z5505' 'Z5507' 'Z5508' 'Z5509' 'Z5510'\n",
      " 'Z5551' 'Z5552' 'Z5553' 'Z5554' 'Z5555' 'Z5558' 'Z5559' 'Z5561' 'Z5611'\n",
      " 'Z5612' 'Z5613' 'Z5614' 'Z5616' 'Z5617' 'Z5621' 'Z5622' 'Z5623' 'Z5624'\n",
      " 'Z5701' 'Z5703' 'Z5704' 'Z5706' 'Z5707' 'Z5709' 'Z5801' 'Z5802' 'Z5803'\n",
      " 'Z5804' 'Z5851' 'Z5852' 'Palashbari Gaibandha\"' 'Z5854' 'Z5855' 'Z5856'\n",
      " 'Z5857' 'Z5858' 'Z5901' 'Z5902' 'Z5903' 'Z5904' 'Z5907' 'Z6004' 'Z6005'\n",
      " 'Z6006' 'Z6010' 'Z6011' 'Z6014' 'Z6015' 'Z6017' 'Z6018' 'Z6019' 'Z6020'\n",
      " 'Z6021' 'Z6022' 'Z6023' 'Z6024' 'Z6026' 'Z6027' 'Z6028' 'Z6029' 'Z6030'\n",
      " 'Z6031' 'Z6032' 'Z6033' 'Z6034' 'Z6035' 'Z6802' 'Z6803' 'Z6805' 'Z6806'\n",
      " 'Z6809' 'Z6810' 'Z6812' 'Z6813' 'Z6816' 'Z6817' 'Z6818' 'Z6819' 'Z6851'\n",
      " 'Z6852' 'Z6853' 'Z6855' 'Z6856' 'Z7001' 'Z7002' 'Z7004' 'Z7006' 'Z7007'\n",
      " 'Z7008' 'Z7011' 'Z7012' 'Z7021' 'Z7023' 'Z7024' 'Z7030' 'Z7031' 'Z7040'\n",
      " 'Z7041' 'Z7042' 'Z7043' 'Z7045' 'Z7047' 'Z7050' 'Z7054' 'Z7057' 'Z7058'\n",
      " 'Z7059' 'Z7102' 'Z7105' 'Z7106' 'Z7108' 'Z7201' 'Z7404' 'Z7405' 'Z7406'\n",
      " 'Z7407' 'Z7408' 'Z7409' 'Z7411' 'Z7412' 'Z7451' 'Z7452' 'Z7456' 'Z7457'\n",
      " 'Z7458' 'Z7460' 'Z7461' 'Z7463' 'Z7464' 'Z7465' 'Z7466' 'Z7467' 'Z7468'\n",
      " 'Z7469' 'Z7488' 'Z7489' 'Z7501' 'Z7502' 'Z7503' 'Z7504' 'Z7505' 'Z7506'\n",
      " 'Z7551' 'Z7552' 'Z7553' 'Z7602' 'Z7603' 'Z7604' 'Z7606' 'Z7607' 'Z7609'\n",
      " 'Z7610' 'Z7613' 'Z7615' 'Z7617' 'Z7618' 'Z7619' 'Z7701' 'Z7702' 'Z7703'\n",
      " 'Z7704' 'Z7705' 'Z7706' 'Z7707' 'Z7708' 'Z7709' 'Z7710' 'Z7711' 'Z7715'\n",
      " 'Z7716' 'Z7717' 'Z7718' 'Z7719' 'Z7801' 'Z8002' 'Z8003' 'Z8004' 'Z8005'\n",
      " 'Z8009' 'Z8011' 'Z8012' 'Z8021' 'Z8023' 'Z8031' 'Z8032' 'Z8033' 'Z8034'\n",
      " 'Z8035' 'Z8037' 'Z8038' 'Z8040' 'Z8043' 'Z8044' 'Z8047' 'Z8048' 'Z8049'\n",
      " 'Z8051' 'Z8052' 'Z8053' 'Z8054' 'Z8055' 'Z8056' 'Z8057' 'Z8058' 'Z8059'\n",
      " 'Z8062' 'Z8065' 'Z8067' 'Z8121' 'Z8201' 'Z8203' 'Z8204' 'Z8205' 'Z8206'\n",
      " 'Z8207' 'Z8208' 'Z8209' 'Z8401' 'Z8402' 'Z8404' 'Z8408' 'Z8412' 'Z8414'\n",
      " 'Z8416' 'Z8419' 'Z8420' 'Z8429' 'Z8430' 'Z8504' 'Z8507' 'Z8601' 'Z8602'\n",
      " 'Z8603' 'Z8604' 'Z8605' 'Z8606' 'Z8607' 'Z8611' 'Z8699' 'Z8701' 'Z8702'\n",
      " 'Z8703' 'Z8704' 'Z8705' 'Z8706' 'Z8708' 'Z8709' 'Z8713' 'Z8716' 'Z8717'\n",
      " 'Z8740' 'Z8750' 'Z8803' 'Z8804' 'Z8806' 'Z8810' 'Z8814' 'Z8815' 'Z8905'\n",
      " 'Z8909' 'Z8910' 'Z8913' 'Z8915' 'Z8916' 'Z8943']\n"
     ]
    }
   ],
   "source": [
    "highList=pd.unique(df.road)\n",
    "print(highList)"
   ]
  },
  {
   "cell_type": "code",
   "execution_count": null,
   "id": "e663b1ac-3c97-4380-ba07-9dbc459bd73e",
   "metadata": {},
   "outputs": [],
   "source": []
  }
 ],
 "metadata": {
  "kernelspec": {
   "display_name": "Python 3 (ipykernel)",
   "language": "python",
   "name": "python3"
  },
  "language_info": {
   "codemirror_mode": {
    "name": "ipython",
    "version": 3
   },
   "file_extension": ".py",
   "mimetype": "text/x-python",
   "name": "python",
   "nbconvert_exporter": "python",
   "pygments_lexer": "ipython3",
   "version": "3.9.15"
  },
  "vscode": {
   "interpreter": {
    "hash": "a1fad53b691483f4cb3fa7f3d36779a78a8bba18ac525ba296bae93b9807da9f"
   }
  }
 },
 "nbformat": 4,
 "nbformat_minor": 5
}
