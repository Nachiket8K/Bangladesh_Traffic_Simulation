{
 "cells": [
  {
   "cell_type": "markdown",
   "id": "5b60892e-7b68-4b37-b52b-157a20156f30",
   "metadata": {},
   "source": [
    "Importing Libraries"
   ]
  },
  {
   "cell_type": "code",
   "execution_count": 1,
   "id": "8a5d6aeb-53bf-48b6-873c-5b8fe9f341e5",
   "metadata": {},
   "outputs": [],
   "source": [
    "import pandas as pd\n",
    "import numpy as np\n",
    "import math\n",
    "import seaborn as sns\n",
    "import csv\n",
    "import matplotlib.pyplot as plt"
   ]
  },
  {
   "cell_type": "markdown",
   "id": "c3ba8b4a-43d8-43da-9f11-6af9e38f904b",
   "metadata": {},
   "source": [
    "Reading data from TCV file"
   ]
  },
  {
   "cell_type": "code",
   "execution_count": 2,
   "id": "2b1fde9d-54b3-4840-b281-6b4bb25388c1",
   "metadata": {},
   "outputs": [],
   "source": [
    "with open('data/_roads.tcv') as f:\n",
    "    reader = csv.reader(f, delimiter=\"\\t\")\n",
    "    data = list(reader)"
   ]
  },
  {
   "cell_type": "markdown",
   "id": "bc83dc40-526b-45cb-983b-7c7787a5dae9",
   "metadata": {},
   "source": [
    "For easier processing, we convert the list based data into a pandas dataframe"
   ]
  },
  {
   "cell_type": "code",
   "execution_count": 3,
   "id": "603ad583-e5ad-4cbc-85d4-ce2f6fed7334",
   "metadata": {},
   "outputs": [],
   "source": [
    "data_list = []\n",
    "for ids in range(len(data)):\n",
    "    road = data[ids][0]\n",
    "    for triplet in range(1, len(data[ids]), 3):\n",
    "        lrp = data[ids][triplet]\n",
    "        lat = data[ids][triplet + 1]\n",
    "        lon = data[ids][triplet + 2]\n",
    "        lat = float(lat) if type(lat) != str else lat\n",
    "        lon = float(lon) if type(lon) != str else lon\n",
    "        data_list.append({'road': road, 'lrp': lrp, 'lat': lat, 'lon': lon})\n",
    "\n",
    "dataset = pd.DataFrame(data_list)\n"
   ]
  },
  {
   "cell_type": "code",
   "execution_count": 4,
   "id": "60c279de-7af0-4e41-929f-775a8764ae90",
   "metadata": {},
   "outputs": [],
   "source": [
    "dataset=dataset.drop(index=0)\n",
    "dataset=dataset.drop(index=1)\n",
    "dataset=dataset.reset_index(drop=True)"
   ]
  },
  {
   "cell_type": "markdown",
   "id": "90449d84-fef8-49de-a051-fa5b69a489d5",
   "metadata": {},
   "source": [
    "Now we can perform some basic checks for missing values and other obvious errors"
   ]
  },
  {
   "cell_type": "code",
   "execution_count": 5,
   "id": "2df51e90-b1d6-4a51-ae64-f22d42811b53",
   "metadata": {},
   "outputs": [
    {
     "data": {
      "text/plain": [
       "road    0\n",
       "lrp     0\n",
       "lat     0\n",
       "lon     0\n",
       "dtype: int64"
      ]
     },
     "execution_count": 5,
     "metadata": {},
     "output_type": "execute_result"
    }
   ],
   "source": [
    "dataset.isnull().sum()"
   ]
  },
  {
   "cell_type": "markdown",
   "id": "0d732b33-9ce9-4487-9f99-9fe8f196276c",
   "metadata": {},
   "source": [
    "Since the tcv file stores all data as string, we have also read the data as a single string. In order to process this in pandas we need to convert the latitude and londitude data into float values. "
   ]
  },
  {
   "cell_type": "code",
   "execution_count": 6,
   "id": "3770cd93-c6e2-4788-af46-baa30035566c",
   "metadata": {},
   "outputs": [],
   "source": [
    "#Converting all strings for data into floats\n",
    "for i in dataset.index:\n",
    "    if (type(dataset.road[i])!=str):\n",
    "        junk=dataset.loc[i]\n",
    "    if (type(dataset.lat[i])!=float):\n",
    "        dataset.loc[i,'lat']=float(dataset.loc[i,'lat'])\n",
    "        #print('via lat')\n",
    "    if (type(dataset.lon[i])!=float):\n",
    "        dataset.loc[i,'lon']=float(dataset.loc[i,'lon'])        \n",
    "        #print('via lon')\n"
   ]
  },
  {
   "cell_type": "markdown",
   "id": "8a0f123e-dbcc-4a7f-8d28-03765164f998",
   "metadata": {},
   "source": [
    "We can check this by checking the types of data that exist in the columns"
   ]
  },
  {
   "cell_type": "code",
   "execution_count": 7,
   "id": "26b4315c-1f0c-4373-bfb8-3cffbe9aa19e",
   "metadata": {},
   "outputs": [
    {
     "name": "stdout",
     "output_type": "stream",
     "text": [
      "{'Floats': 42184, 'Ints': 0, 'Strings': 0}\n",
      "42184\n"
     ]
    }
   ],
   "source": [
    "list_lat=dataset['lat'].unique()\n",
    "list_lon=dataset['lon'].unique()\n",
    "typeList={'Floats':0,'Ints':0,'Strings':0}\n",
    "for i in list_lat:\n",
    "    if type(i)==float:\n",
    "        typeList['Floats']+=1\n",
    "    if type(i)==str:\n",
    "        typeList['Strings']+=1\n",
    "    if type(i)==int:\n",
    "        typeList['Ints']+=1\n",
    "print(typeList)\n",
    "print(len(list_lat))"
   ]
  },
  {
   "cell_type": "code",
   "execution_count": 8,
   "id": "b38780f7-2e60-462f-a49c-8374c5eeba2d",
   "metadata": {},
   "outputs": [],
   "source": [
    "roadMap=dataset"
   ]
  },
  {
   "cell_type": "markdown",
   "id": "df661140-969a-47a9-8b71-dec4c0ba6f79",
   "metadata": {},
   "source": [
    "We run the same algorith that was used for the other roads dataset to see the same adjustments on these values."
   ]
  },
  {
   "cell_type": "code",
   "execution_count": 9,
   "id": "a3305197-954f-425f-8e57-4e7401d1cbf4",
   "metadata": {},
   "outputs": [],
   "source": [
    "#WARNING: TAKES ATLEAST 15 mins to run\n",
    "\n",
    "for road in roadMap['road'].unique():\n",
    "    for elem in roadMap.loc[roadMap['road'] == road].index:\n",
    "        # NOT first or last LRP\n",
    "        if elem != 0 and elem != 1 and elem != (len(roadMap.loc[roadMap['road'] == road])-1) and elem != (len(roadMap.loc[roadMap['road'] == road])-2):\n",
    "                    \n",
    "                #far from both neighbors\n",
    "            if abs(roadMap.loc[elem, 'lat'] - roadMap.loc[elem-2, 'lat']) > 0.1 and abs(roadMap.loc[elem, 'lat'] - roadMap.loc[elem+2, 'lat']) > 0.1 :  \n",
    "                    roadMap.loc[elem, 'lat'] = (roadMap.loc[elem-3, 'lat'] + roadMap.loc[elem+3, 'lat'])/2 # replace with average of neighbors\n",
    "                    roadMap.loc[elem, 'lon'] = (roadMap.loc[elem-3, 'lon'] + roadMap.loc[elem+3, 'lon'])/2 # replace with average of neighbors\n",
    "                    #print(road)\n",
    "                    \n",
    "                    #far from precursor only\n",
    "            elif abs(roadMap.loc[elem, 'lat'] - roadMap.loc[elem-2, 'lat']) > 0.1 and elem > 6: \n",
    "                if abs(roadMap.loc[elem+3, 'lat'] - (roadMap.loc[elem-3, 'lat'] + abs(roadMap.loc[elem-6, 'lat'] - roadMap.loc[elem-3, 'lat']))) < abs(roadMap.loc[elem+3, 'lat'] - roadMap.loc[elem, 'lat']): # if extending linear trend of previous datapoints brings outlier closer to successor\n",
    "                    roadMap.loc[elem, 'lat'] = roadMap.loc[elem-3, 'lat'] + abs(roadMap.loc[elem-6, 'lat'] - roadMap.loc[elem-3, 'lat'])\n",
    "                    roadMap.loc[elem, 'lon'] = roadMap.loc[elem-3, 'lon'] + abs(roadMap.loc[elem-6, 'lon'] - roadMap.loc[elem-3, 'lon'])\n",
    "                            \n",
    "            # last LRP\n",
    "            elif elem == len(roadMap.loc[roadMap['road'] == road])-1 or elem == len(roadMap.loc[roadMap['road'] == road])-2: \n",
    "                if abs(roadMap.loc[elem, 'lat'] - roadMap.loc[elem-3, 'lat']) > 0.1: #if far from precursor\n",
    "                    roadMap.loc[elem, 'lat'] = roadMap.loc[elem-3, 'lat'] + abs(roadMap.loc[elem-6, 'lat'] - roadMap.loc[elem-3, 'lat']) #replace with linear extension of precursors\n",
    "                    roadMap.loc[elem, 'lon'] = roadMap.loc[elem-3, 'lon'] + abs(roadMap.loc[elem-6, 'lon'] - roadMap.loc[elem-3, 'lon'])\n",
    "                    #print(road)\n",
    "           \n",
    "            # first LRP\n",
    "            elif elem == 0 or elem == 1: \n",
    "                if abs(roadMap.loc[elem, 'lat'] - roadMap.loc[elem+3, 'lat']) > 0.1: #if far from successor\n",
    "                    roadMap.loc[elem, 'lat'] = roadMap.loc[elem+3, 'lat'] - abs(roadMap.loc[elem+3, 'lat'] - roadMap.loc[elem+6, 'lat']) #replace with linear extension of successor\n",
    "                    roadMap.loc[elem, 'lon'] = roadMap.loc[elem+3, 'lon'] - abs(roadMap.loc[elem+3, 'lon'] - roadMap.loc[elem+6, 'lon'])\n"
   ]
  },
  {
   "cell_type": "markdown",
   "id": "b2639441-0577-459f-9735-28bfe0e4df0f",
   "metadata": {},
   "source": [
    "In order to recreate the tcv file, we need to create a single list with all the data from the pandas Dataframe and convert it into a single string. "
   ]
  },
  {
   "cell_type": "code",
   "execution_count": 11,
   "id": "55a45cdf-4d84-4801-bce9-6ebcc9b5de07",
   "metadata": {},
   "outputs": [],
   "source": [
    "highList=pd.unique(roadMap.road)\n",
    "stringTCV=['road\\tlrp1\\lat1\\tlon1\\tlat1\\tlon1\\n']\n",
    "for ID in highList:\n",
    "    road = roadMap.loc[roadMap.road==ID]\n",
    "    road=road.reset_index()\n",
    "    stringTCV+=ID\n",
    "    stringTCV+='\\t'\n",
    "    for point in road.index:\n",
    "        stringTCV+=roadMap.loc[point,'lrp']\n",
    "        stringTCV+='\\t'\n",
    "        stringTCV+=str(roadMap.loc[point,'lat'])\n",
    "        stringTCV+='\\t'\n",
    "        stringTCV+=str(roadMap.loc[point,'lon'])\n",
    "        stringTCV+='\\t'\n",
    "    stringTCV+='\\n'\n",
    "        \n",
    "        "
   ]
  },
  {
   "cell_type": "code",
   "execution_count": 18,
   "id": "ab1f8888-722f-4a82-8986-4e007de82be2",
   "metadata": {},
   "outputs": [],
   "source": [
    "strings = ''.join(stringTCV)"
   ]
  },
  {
   "cell_type": "code",
   "execution_count": 19,
   "id": "5ea41e4c-c49a-41b9-b200-04cc72249edf",
   "metadata": {},
   "outputs": [],
   "source": [
    "with open('data/processed/_roads.tcv', 'w') as f:\n",
    "    f.write(string)"
   ]
  },
  {
   "cell_type": "code",
   "execution_count": null,
   "id": "16f40b8d-21fc-4e3c-9f46-d4c538c51d49",
   "metadata": {},
   "outputs": [],
   "source": []
  }
 ],
 "metadata": {
  "kernelspec": {
   "display_name": "Python 3 (ipykernel)",
   "language": "python",
   "name": "python3"
  },
  "language_info": {
   "codemirror_mode": {
    "name": "ipython",
    "version": 3
   },
   "file_extension": ".py",
   "mimetype": "text/x-python",
   "name": "python",
   "nbconvert_exporter": "python",
   "pygments_lexer": "ipython3",
   "version": "3.9.15"
  }
 },
 "nbformat": 4,
 "nbformat_minor": 5
}
