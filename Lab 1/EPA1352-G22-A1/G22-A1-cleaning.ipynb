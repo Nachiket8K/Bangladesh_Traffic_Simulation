{
 "cells": [
  {
   "cell_type": "markdown",
   "metadata": {},
   "source": [
    "# Imports"
   ]
  },
  {
   "cell_type": "code",
   "execution_count": 5,
   "metadata": {},
   "outputs": [],
   "source": [
    "import pandas as pd\n",
    "import csv"
   ]
  },
  {
   "cell_type": "markdown",
   "metadata": {},
   "source": [
    "# Data loading\n",
    "In this notebook, we will clean the BMMS and \\_roads dataset."
   ]
  },
  {
   "cell_type": "code",
   "execution_count": 6,
   "metadata": {},
   "outputs": [
    {
     "data": {
      "text/html": [
       "<div>\n",
       "<style scoped>\n",
       "    .dataframe tbody tr th:only-of-type {\n",
       "        vertical-align: middle;\n",
       "    }\n",
       "\n",
       "    .dataframe tbody tr th {\n",
       "        vertical-align: top;\n",
       "    }\n",
       "\n",
       "    .dataframe thead th {\n",
       "        text-align: right;\n",
       "    }\n",
       "</style>\n",
       "<table border=\"1\" class=\"dataframe\">\n",
       "  <thead>\n",
       "    <tr style=\"text-align: right;\">\n",
       "      <th></th>\n",
       "      <th>road</th>\n",
       "      <th>km</th>\n",
       "      <th>type</th>\n",
       "      <th>LRPName</th>\n",
       "      <th>name</th>\n",
       "      <th>length</th>\n",
       "      <th>condition</th>\n",
       "      <th>structureNr</th>\n",
       "      <th>roadName</th>\n",
       "      <th>chainage</th>\n",
       "      <th>width</th>\n",
       "      <th>constructionYear</th>\n",
       "      <th>spans</th>\n",
       "      <th>zone</th>\n",
       "      <th>circle</th>\n",
       "      <th>division</th>\n",
       "      <th>sub-division</th>\n",
       "      <th>lat</th>\n",
       "      <th>lon</th>\n",
       "      <th>EstimatedLoc</th>\n",
       "    </tr>\n",
       "  </thead>\n",
       "  <tbody>\n",
       "    <tr>\n",
       "      <th>0</th>\n",
       "      <td>N1</td>\n",
       "      <td>1.800</td>\n",
       "      <td>Box Culvert</td>\n",
       "      <td>LRP001a</td>\n",
       "      <td>.</td>\n",
       "      <td>11.30</td>\n",
       "      <td>A</td>\n",
       "      <td>117861</td>\n",
       "      <td>Dhaka (Jatrabari)-Comilla (Mainamati)-Chittago...</td>\n",
       "      <td>1.8</td>\n",
       "      <td>19.5</td>\n",
       "      <td>2005.0</td>\n",
       "      <td>2.0</td>\n",
       "      <td>Dhaka</td>\n",
       "      <td>Dhaka</td>\n",
       "      <td>Narayanganj</td>\n",
       "      <td>Narayanganj-1</td>\n",
       "      <td>23.702889</td>\n",
       "      <td>90.450389</td>\n",
       "      <td>bcs1</td>\n",
       "    </tr>\n",
       "    <tr>\n",
       "      <th>1</th>\n",
       "      <td>N1</td>\n",
       "      <td>4.925</td>\n",
       "      <td>Box Culvert</td>\n",
       "      <td>LRP004b</td>\n",
       "      <td>.</td>\n",
       "      <td>6.60</td>\n",
       "      <td>A</td>\n",
       "      <td>117862</td>\n",
       "      <td>Dhaka (Jatrabari)-Comilla (Mainamati)-Chittago...</td>\n",
       "      <td>4.925</td>\n",
       "      <td>35.4</td>\n",
       "      <td>2006.0</td>\n",
       "      <td>1.0</td>\n",
       "      <td>Dhaka</td>\n",
       "      <td>Dhaka</td>\n",
       "      <td>Narayanganj</td>\n",
       "      <td>Narayanganj-1</td>\n",
       "      <td>23.693611</td>\n",
       "      <td>90.478833</td>\n",
       "      <td>bcs1</td>\n",
       "    </tr>\n",
       "    <tr>\n",
       "      <th>2</th>\n",
       "      <td>N1</td>\n",
       "      <td>8.976</td>\n",
       "      <td>PC Girder Bridge</td>\n",
       "      <td>LRP008b</td>\n",
       "      <td>Kanch pur Bridge.</td>\n",
       "      <td>394.23</td>\n",
       "      <td>A</td>\n",
       "      <td>119889</td>\n",
       "      <td>Dhaka (Jatrabari)-Comilla (Mainamati)-Chittago...</td>\n",
       "      <td>8.976</td>\n",
       "      <td>NaN</td>\n",
       "      <td>NaN</td>\n",
       "      <td>NaN</td>\n",
       "      <td>Dhaka</td>\n",
       "      <td>Dhaka</td>\n",
       "      <td>Narayanganj</td>\n",
       "      <td>Narayanganj-1</td>\n",
       "      <td>23.704583</td>\n",
       "      <td>90.518833</td>\n",
       "      <td>road_precise</td>\n",
       "    </tr>\n",
       "    <tr>\n",
       "      <th>3</th>\n",
       "      <td>N1</td>\n",
       "      <td>10.880</td>\n",
       "      <td>Box Culvert</td>\n",
       "      <td>LRP010b</td>\n",
       "      <td>NOYAPARA CULVERT</td>\n",
       "      <td>6.30</td>\n",
       "      <td>A</td>\n",
       "      <td>112531</td>\n",
       "      <td>Dhaka (Jatrabari)-Comilla (Mainamati)-Chittago...</td>\n",
       "      <td>10.88</td>\n",
       "      <td>12.2</td>\n",
       "      <td>1992.0</td>\n",
       "      <td>2.0</td>\n",
       "      <td>Dhaka</td>\n",
       "      <td>Dhaka</td>\n",
       "      <td>Narayanganj</td>\n",
       "      <td>Vitikandi</td>\n",
       "      <td>23.699833</td>\n",
       "      <td>90.530722</td>\n",
       "      <td>bcs1</td>\n",
       "    </tr>\n",
       "    <tr>\n",
       "      <th>4</th>\n",
       "      <td>N1</td>\n",
       "      <td>10.897</td>\n",
       "      <td>Box Culvert</td>\n",
       "      <td>LRP010c</td>\n",
       "      <td>ADUPUR CULVERT</td>\n",
       "      <td>6.30</td>\n",
       "      <td>A</td>\n",
       "      <td>112532</td>\n",
       "      <td>Dhaka (Jatrabari)-Comilla (Mainamati)-Chittago...</td>\n",
       "      <td>10.897</td>\n",
       "      <td>12.2</td>\n",
       "      <td>1984.0</td>\n",
       "      <td>2.0</td>\n",
       "      <td>Dhaka</td>\n",
       "      <td>Dhaka</td>\n",
       "      <td>Narayanganj</td>\n",
       "      <td>Vitikandi</td>\n",
       "      <td>23.699667</td>\n",
       "      <td>90.530722</td>\n",
       "      <td>bcs1</td>\n",
       "    </tr>\n",
       "  </tbody>\n",
       "</table>\n",
       "</div>"
      ],
      "text/plain": [
       "  road      km              type  LRPName               name  length  \\\n",
       "0   N1   1.800       Box Culvert  LRP001a                  .   11.30   \n",
       "1   N1   4.925       Box Culvert  LRP004b                  .    6.60   \n",
       "2   N1   8.976  PC Girder Bridge  LRP008b  Kanch pur Bridge.  394.23   \n",
       "3   N1  10.880       Box Culvert  LRP010b   NOYAPARA CULVERT    6.30   \n",
       "4   N1  10.897       Box Culvert  LRP010c     ADUPUR CULVERT    6.30   \n",
       "\n",
       "  condition  structureNr                                           roadName  \\\n",
       "0         A       117861  Dhaka (Jatrabari)-Comilla (Mainamati)-Chittago...   \n",
       "1         A       117862  Dhaka (Jatrabari)-Comilla (Mainamati)-Chittago...   \n",
       "2         A       119889  Dhaka (Jatrabari)-Comilla (Mainamati)-Chittago...   \n",
       "3         A       112531  Dhaka (Jatrabari)-Comilla (Mainamati)-Chittago...   \n",
       "4         A       112532  Dhaka (Jatrabari)-Comilla (Mainamati)-Chittago...   \n",
       "\n",
       "  chainage  width  constructionYear  spans   zone circle     division  \\\n",
       "0      1.8   19.5            2005.0    2.0  Dhaka  Dhaka  Narayanganj   \n",
       "1    4.925   35.4            2006.0    1.0  Dhaka  Dhaka  Narayanganj   \n",
       "2    8.976    NaN               NaN    NaN  Dhaka  Dhaka  Narayanganj   \n",
       "3    10.88   12.2            1992.0    2.0  Dhaka  Dhaka  Narayanganj   \n",
       "4   10.897   12.2            1984.0    2.0  Dhaka  Dhaka  Narayanganj   \n",
       "\n",
       "    sub-division        lat        lon  EstimatedLoc  \n",
       "0  Narayanganj-1  23.702889  90.450389          bcs1  \n",
       "1  Narayanganj-1  23.693611  90.478833          bcs1  \n",
       "2  Narayanganj-1  23.704583  90.518833  road_precise  \n",
       "3      Vitikandi  23.699833  90.530722          bcs1  \n",
       "4      Vitikandi  23.699667  90.530722          bcs1  "
      ]
     },
     "execution_count": 6,
     "metadata": {},
     "output_type": "execute_result"
    }
   ],
   "source": [
    "# Load the BMMS file directly from the .xlsx file\n",
    "BMMS = pd.read_excel('Data/raw/BMMS_overview.xlsx')\n",
    "\n",
    "# Sneak peek of the dataset\n",
    "BMMS.head(5)"
   ]
  },
  {
   "cell_type": "code",
   "execution_count": 7,
   "metadata": {},
   "outputs": [
    {
     "data": {
      "text/plain": [
       "['N1',\n",
       " 'LRPS',\n",
       " '23.7060278',\n",
       " '90.443333',\n",
       " 'LRPSa',\n",
       " '23.7029167',\n",
       " '90.4504167',\n",
       " 'LRPSb',\n",
       " '23.7027778',\n",
       " '90.4504722']"
      ]
     },
     "execution_count": 7,
     "metadata": {},
     "output_type": "execute_result"
    }
   ],
   "source": [
    "# Load tcv file as a tab-separated csv. Results in a nested list.\n",
    "with open('Data/raw/_roads.tcv') as f:\n",
    "    reader = csv.reader(f, delimiter=\"\\t\")\n",
    "    d = list(reader)\n",
    "\n",
    "# Sneak peek of the dataset\n",
    "d[1][:10]"
   ]
  },
  {
   "cell_type": "markdown",
   "metadata": {},
   "source": [
    "# Cleaning the roads dataset\n",
    "The roads are now in a nested list. Each element of the list represents one road, the first element in the road is the name of the road, with afterwards a repetition of the sequence LRPName, latitude, longitude for all points in the road. <br>\n",
    "We convert all entries to their correct datatype and correct obvious outliers.\n",
    "\n",
    "\n",
    "In the dataset, many of the variables are represented as strings in stead of floats. The first thing we do is converting all road coordinates to floats."
   ]
  },
  {
   "cell_type": "code",
   "execution_count": 8,
   "metadata": {},
   "outputs": [],
   "source": [
    "# For each element, try to convert to float. Only works for latitudes and longitudes.\n",
    "road_coords = []\n",
    "for road in range(len(d)):\n",
    "    for elem in range(len(d[road])):\n",
    "        try:\n",
    "            d[road][elem] = float(d[road][elem])\n",
    "        except:\n",
    "            pass"
   ]
  },
  {
   "cell_type": "markdown",
   "metadata": {},
   "source": [
    "Next, we remove all roads that consists of only one datapoint."
   ]
  },
  {
   "cell_type": "code",
   "execution_count": 9,
   "metadata": {},
   "outputs": [],
   "source": [
    "for road in range(len(d)):\n",
    "    if len(d[road-1]) == 4:\n",
    "        d.pop(road-1)"
   ]
  },
  {
   "cell_type": "markdown",
   "metadata": {},
   "source": [
    "Next, we look at all the datapoints in the road and check if there are any clear errors in the data. Clear errors are indicated by their lack of proximity to their neighboring road points. For this purpose, we assumed that all outliers are at least 0.1 coordinate removed from its neighbors, this corresponds to 11 kilometers. <br>\n",
    "Spikes are datapoints that is a single outlier where both of its neighbors have reasonable coordinates, these are replaced by the average value in longitude/latitude of its neighbors. Some outliers come in subsequent pairs, these are handled by extending the trend of the previous two correct datapoints to replace the outliers. To prevent this trend to be assumed falsely, we check if this procedure brings the considered outlier closer to its succeeding neighbor. <br>\n",
    "The start and the end of a road naturally only have one neighboring point, here we consider only their proximity to this one neighbor."
   ]
  },
  {
   "cell_type": "code",
   "execution_count": 10,
   "metadata": {},
   "outputs": [],
   "source": [
    "for road in range(1, len(d)): # for each road\n",
    "    for elem in range(2, len(d[road])): # for each LRP of that road\n",
    "        if isinstance(d[road][elem], float): # only check coordinates \n",
    "            \n",
    "            # NOT first or last LRP\n",
    "            if elem != 2 and elem != 3 and elem != len(d[road])-1 and elem != len(d[road])-2:\n",
    "                    \n",
    "                    #far from both neighbors\n",
    "                    if abs(d[road][elem]-d[road][(elem-3)]) > 0.1 and abs(d[road][elem]-d[road][(elem+3)]) > 0.1 :  \n",
    "                        d[road][elem] = (d[road][elem-3]+d[road][elem+3])/2 # replace with average of neighbors\n",
    "                    \n",
    "                    #far from precursor only\n",
    "                    elif abs(d[road][elem]-d[road][(elem-3)]) > 0.1 and elem>6: \n",
    "                        if abs(d[road][elem+3] - (d[road][elem-3] + abs(d[road][elem-6]-d[road][elem-3]))) < abs(d[road][elem+3]-d[road][elem]):# if extending linear trend of previous datapoints brings outlier closer to successor\n",
    "                            d[road][elem] = d[road][elem-3] + abs(d[road][elem-6]-d[road][elem-3])\n",
    "                            \n",
    "            # last LRP\n",
    "            elif elem==len(d[road])-1 or elem==len(d[road])-2: \n",
    "                if abs(d[road][elem]-d[road][(elem-3)]) > 0.1: #if far from precursor\n",
    "                    d[road][elem] = d[road][elem-3] + abs(d[road][elem-6]-d[road][elem-3]) #replace with linear extension of precursors\n",
    "           \n",
    "            # first LRP\n",
    "            elif elem==2 or elem==3: \n",
    "                if abs(d[road][elem]-d[road][(elem+3)]) > 0.1 and abs(d[road][elem+3]-d[road][(elem+6)]) < 0.1: #if first LRP is outlier and second LRP is NOT outlier\n",
    "                    d[road][elem] = d[road][elem+3] - abs(d[road][elem+6]-d[road][elem+3]) # replace with average of neighbors"
   ]
  },
  {
   "cell_type": "markdown",
   "metadata": {},
   "source": [
    "# Cleaning the bridges dataset\n",
    "The bridges dataset contains a number of problems that are tackled in this section:\n",
    "- Duplicate bridges are removed, whilst keeping the bridge data that is most complete\n",
    "- Bridges that are on an incorrect location are replaced\n",
    "- Bridges that do not correspond to a road point in the roads dataset are removed"
   ]
  },
  {
   "cell_type": "code",
   "execution_count": 11,
   "metadata": {},
   "outputs": [
    {
     "name": "stdout",
     "output_type": "stream",
     "text": [
      "<class 'pandas.core.frame.DataFrame'>\n",
      "RangeIndex: 21407 entries, 0 to 21406\n",
      "Data columns (total 20 columns):\n",
      " #   Column            Non-Null Count  Dtype  \n",
      "---  ------            --------------  -----  \n",
      " 0   road              21407 non-null  object \n",
      " 1   km                21406 non-null  float64\n",
      " 2   type              21407 non-null  object \n",
      " 3   LRPName           21407 non-null  object \n",
      " 4   name              21060 non-null  object \n",
      " 5   length            21398 non-null  float64\n",
      " 6   condition         21407 non-null  object \n",
      " 7   structureNr       21407 non-null  int64  \n",
      " 8   roadName          21406 non-null  object \n",
      " 9   chainage          21407 non-null  object \n",
      " 10  width             18290 non-null  float64\n",
      " 11  constructionYear  18289 non-null  float64\n",
      " 12  spans             18290 non-null  float64\n",
      " 13  zone              21406 non-null  object \n",
      " 14  circle            21406 non-null  object \n",
      " 15  division          21406 non-null  object \n",
      " 16  sub-division      21406 non-null  object \n",
      " 17  lat               21313 non-null  float64\n",
      " 18  lon               21313 non-null  float64\n",
      " 19  EstimatedLoc      21407 non-null  object \n",
      "dtypes: float64(7), int64(1), object(12)\n",
      "memory usage: 3.3+ MB\n"
     ]
    }
   ],
   "source": [
    "# Inspect the data\n",
    "BMMS.info()"
   ]
  },
  {
   "cell_type": "markdown",
   "metadata": {},
   "source": [
    "Here, duplicate bridges are removed while preserving the bridge data that is most complete."
   ]
  },
  {
   "cell_type": "code",
   "execution_count": 12,
   "metadata": {},
   "outputs": [],
   "source": [
    "# make copy of the original DataFrame, so we can always compare later\n",
    "BMMS_mod = BMMS.copy()\n",
    "\n",
    "# count NaN values for each row only in relevant columns\n",
    "BMMS_mod['count_NaN'] = BMMS[['road', 'km', 'type', 'LRPName', 'name', 'length', 'condition', 'structureNr', 'chainage', 'width', 'constructionYear', 'spans', 'lat', 'lon']].isnull().sum(axis=1)\n",
    "\n",
    "# sort by road then LRPName and count NaN values in the rows\n",
    "BMMS_mod = BMMS_mod.sort_values(by=['road', 'LRPName', 'count_NaN', 'constructionYear'], ascending=[True, True, True, False])\n",
    "\n",
    "# reset the index\n",
    "BMMS_mod = BMMS_mod.reset_index(drop=True)\n",
    "\n",
    "# drop duplicates and keep the first one (least NaN values)\n",
    "BMMS_mod = BMMS_mod.drop_duplicates(subset=['road','LRPName'], keep='first')\n",
    "\n",
    "# reset the index again\n",
    "BMMS_mod = BMMS_mod.reset_index(drop=True)"
   ]
  },
  {
   "cell_type": "code",
   "execution_count": 13,
   "metadata": {},
   "outputs": [
    {
     "data": {
      "text/plain": [
       "(18327, 21)"
      ]
     },
     "execution_count": 13,
     "metadata": {},
     "output_type": "execute_result"
    }
   ],
   "source": [
    "# check shape again after dropping the duplicates to see how many bridges were duplicates\n",
    "BMMS_mod.shape"
   ]
  },
  {
   "cell_type": "markdown",
   "metadata": {},
   "source": [
    "The dataframe decreased from 21407 entries to 18327 entries, this means that 3080 bridges used to be double in the dataset. <br>\n",
    "The next thing we do is to match all bridges to the cleaned road data. All bridges that are on a road point in the road data are brought to the location of that road point. <br>\n",
    "Some road starts or ends have different names ('LRPS', 'LRPSg', or 'LRPSf' in the bridges and BMMS files, these are brought to the same location as well. <br>\n",
    "Bridges that are on LRP's that do not exist in the road dataset are removed. <br>\n",
    "Bridges that are on roads that do not exist in the road dataset are linked together to create a coarse representation of the road that should connect these bridges."
   ]
  },
  {
   "cell_type": "code",
   "execution_count": 14,
   "metadata": {},
   "outputs": [],
   "source": [
    "# convert road list to dictionary \n",
    "di = {d[el][0] : d[el][1:] for el in range(1, len(d))}"
   ]
  },
  {
   "cell_type": "code",
   "execution_count": 15,
   "metadata": {},
   "outputs": [],
   "source": [
    "# create list of alternative LRPNames\n",
    "alt_names = ['LRPS', 'LRPSg', 'LRPSf']\n",
    "\n",
    "# empty list to append new roads to\n",
    "newRoads = []\n",
    "\n",
    "for index, row in BMMS_mod.iterrows():\n",
    "    # if road is in the road list, loop trough nested points. If LRPName of bridge can be found on that road, line up the coordinates. \n",
    "    if row['road'] in di: \n",
    "        for point in di[row['road']]: \n",
    "            if row['LRPName'] == point: \n",
    "                BMMS_mod.loc[index, 'lat'] = di[row['road']][di[row['road']].index(point) + 1]\n",
    "                BMMS_mod.loc[index, 'lon'] = di[row['road']][di[row['road']].index(point) + 2]\n",
    "                break\n",
    "            if row['LRPName'] in alt_names and point in alt_names:\n",
    "                # check if the point does occur, but under an alternative different name\n",
    "                BMMS_mod.loc[index, 'lat'] = di[row['road']][di[row['road']].index(point) + 1]\n",
    "                BMMS_mod.loc[index, 'lon'] = di[row['road']][di[row['road']].index(point) + 2]\n",
    "                break\n",
    "            \n",
    "        else:\n",
    "            # if the linked LRPName is not found on the road, remove the bridge\n",
    "            BMMS_mod.drop(index, inplace=True)\n",
    "    else:\n",
    "        # if the road is not found in the road dictionary, add a new road is created in the roads dataframe that connects all bridges that should be on it\n",
    "        # update the roads that have been added to the newRoads list\n",
    "        roadsAdded = [el[0] for el in newRoads] \n",
    "        # if road is already created\n",
    "        if row['road'] in roadsAdded: \n",
    "            # find the index that matches the index from roadsAdded and extend the list\n",
    "            index = roadsAdded.index(row['road'])\n",
    "            newRoads[index].extend([row['LRPName'], row['lat'], row['lon']])\n",
    "        else:\n",
    "            # if road does not exist yet, create it\n",
    "            newRoads.append([row['road'], row['LRPName'], row['lat'], row['lon']])\n",
    "            \n",
    "# merge the roads list with the newRoads list\n",
    "d = d + newRoads"
   ]
  },
  {
   "cell_type": "code",
   "execution_count": 16,
   "metadata": {},
   "outputs": [
    {
     "data": {
      "text/plain": [
       "(13044, 21)"
      ]
     },
     "execution_count": 16,
     "metadata": {},
     "output_type": "execute_result"
    }
   ],
   "source": [
    "# check shape again\n",
    "BMMS_mod.shape"
   ]
  },
  {
   "cell_type": "code",
   "execution_count": 17,
   "metadata": {},
   "outputs": [
    {
     "data": {
      "text/plain": [
       "28"
      ]
     },
     "execution_count": 17,
     "metadata": {},
     "output_type": "execute_result"
    }
   ],
   "source": [
    "# check how many new roads are created\n",
    "len(newRoads)"
   ]
  },
  {
   "cell_type": "markdown",
   "metadata": {},
   "source": [
    "This procedure removed 5283 bridges from the dataset, this is roughly 30%. Also, 28 new roads are added."
   ]
  },
  {
   "cell_type": "markdown",
   "metadata": {},
   "source": [
    "# Saving modified data"
   ]
  },
  {
   "cell_type": "code",
   "execution_count": 18,
   "metadata": {},
   "outputs": [],
   "source": [
    "# an additional column was added to the BMMS file in the cleaning process, \n",
    "# we revert the dataset to its original format before saving again \n",
    "BMMS_mod = BMMS_mod.drop(columns=['count_NaN'])"
   ]
  },
  {
   "cell_type": "code",
   "execution_count": 19,
   "metadata": {},
   "outputs": [],
   "source": [
    "# save BMMS data with pandas\n",
    "BMMS_mod.to_excel('Data/processed/BMMS_overview.xlsx', index=False, sheet_name='BMMS_overview')"
   ]
  },
  {
   "cell_type": "code",
   "execution_count": 20,
   "metadata": {},
   "outputs": [],
   "source": [
    "# save road data with csv write\n",
    "with open('Data/processed/_roads.tcv', 'w', newline='') as f:\n",
    "    writer = csv.writer(f, delimiter=\"\\t\")\n",
    "    writer.writerows(d)"
   ]
  },
  {
   "cell_type": "code",
   "execution_count": null,
   "metadata": {},
   "outputs": [],
   "source": []
  }
 ],
 "metadata": {
  "kernelspec": {
   "display_name": "Python 3",
   "language": "python",
   "name": "python3"
  },
  "language_info": {
   "codemirror_mode": {
    "name": "ipython",
    "version": 3
   },
   "file_extension": ".py",
   "mimetype": "text/x-python",
   "name": "python",
   "nbconvert_exporter": "python",
   "pygments_lexer": "ipython3",
   "version": "3.6.11"
  }
 },
 "nbformat": 4,
 "nbformat_minor": 4
}
