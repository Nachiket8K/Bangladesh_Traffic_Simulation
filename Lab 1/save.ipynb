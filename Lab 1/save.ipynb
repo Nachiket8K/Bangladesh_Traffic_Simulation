{
 "cells": [
  {
   "cell_type": "code",
   "execution_count": 1,
   "metadata": {},
   "outputs": [],
   "source": [
    "import pandas as pd \n",
    "import numpy as np\n",
    "import scipy.stats as stats \n",
    "import seaborn as sns\n",
    "import matplotlib.pyplot as plt "
   ]
  },
  {
   "cell_type": "code",
   "execution_count": null,
   "metadata": {},
   "outputs": [
    {
     "ename": "FileNotFoundError",
     "evalue": "[Errno 2] No such file or directory: 'data/Roads_InfoAboutEachLRP.xlsx'",
     "output_type": "error",
     "traceback": [
      "\u001b[1;31m---------------------------------------------------------------------------\u001b[0m",
      "\u001b[1;31mFileNotFoundError\u001b[0m                         Traceback (most recent call last)",
      "Input \u001b[1;32mIn [2]\u001b[0m, in \u001b[0;36m<cell line: 2>\u001b[1;34m()\u001b[0m\n\u001b[0;32m      1\u001b[0m \u001b[38;5;66;03m# import data\u001b[39;00m\n\u001b[1;32m----> 2\u001b[0m df \u001b[38;5;241m=\u001b[39m \u001b[43mpd\u001b[49m\u001b[38;5;241;43m.\u001b[39;49m\u001b[43mread_excel\u001b[49m\u001b[43m(\u001b[49m\u001b[38;5;124;43m'\u001b[39;49m\u001b[38;5;124;43mdata/Roads_InfoAboutEachLRP.xlsx\u001b[39;49m\u001b[38;5;124;43m'\u001b[39;49m\u001b[43m)\u001b[49m\n\u001b[0;32m      3\u001b[0m bridges1 \u001b[38;5;241m=\u001b[39m pd\u001b[38;5;241m.\u001b[39mread_excel(\u001b[38;5;124m'\u001b[39m\u001b[38;5;124mdata/Bridges.xlsx\u001b[39m\u001b[38;5;124m'\u001b[39m)\n\u001b[0;32m      4\u001b[0m bridge2 \u001b[38;5;241m=\u001b[39m pd\u001b[38;5;241m.\u001b[39mread_excel(\u001b[38;5;124m'\u001b[39m\u001b[38;5;124mdata/BMMS_overview.xlsx\u001b[39m\u001b[38;5;124m'\u001b[39m)\n",
      "File \u001b[1;32m~\\.conda\\envs\\gds\\lib\\site-packages\\pandas\\util\\_decorators.py:211\u001b[0m, in \u001b[0;36mdeprecate_kwarg.<locals>._deprecate_kwarg.<locals>.wrapper\u001b[1;34m(*args, **kwargs)\u001b[0m\n\u001b[0;32m    209\u001b[0m     \u001b[38;5;28;01melse\u001b[39;00m:\n\u001b[0;32m    210\u001b[0m         kwargs[new_arg_name] \u001b[38;5;241m=\u001b[39m new_arg_value\n\u001b[1;32m--> 211\u001b[0m \u001b[38;5;28;01mreturn\u001b[39;00m func(\u001b[38;5;241m*\u001b[39margs, \u001b[38;5;241m*\u001b[39m\u001b[38;5;241m*\u001b[39mkwargs)\n",
      "File \u001b[1;32m~\\.conda\\envs\\gds\\lib\\site-packages\\pandas\\util\\_decorators.py:331\u001b[0m, in \u001b[0;36mdeprecate_nonkeyword_arguments.<locals>.decorate.<locals>.wrapper\u001b[1;34m(*args, **kwargs)\u001b[0m\n\u001b[0;32m    325\u001b[0m \u001b[38;5;28;01mif\u001b[39;00m \u001b[38;5;28mlen\u001b[39m(args) \u001b[38;5;241m>\u001b[39m num_allow_args:\n\u001b[0;32m    326\u001b[0m     warnings\u001b[38;5;241m.\u001b[39mwarn(\n\u001b[0;32m    327\u001b[0m         msg\u001b[38;5;241m.\u001b[39mformat(arguments\u001b[38;5;241m=\u001b[39m_format_argument_list(allow_args)),\n\u001b[0;32m    328\u001b[0m         \u001b[38;5;167;01mFutureWarning\u001b[39;00m,\n\u001b[0;32m    329\u001b[0m         stacklevel\u001b[38;5;241m=\u001b[39mfind_stack_level(),\n\u001b[0;32m    330\u001b[0m     )\n\u001b[1;32m--> 331\u001b[0m \u001b[38;5;28;01mreturn\u001b[39;00m func(\u001b[38;5;241m*\u001b[39margs, \u001b[38;5;241m*\u001b[39m\u001b[38;5;241m*\u001b[39mkwargs)\n",
      "File \u001b[1;32m~\\.conda\\envs\\gds\\lib\\site-packages\\pandas\\io\\excel\\_base.py:482\u001b[0m, in \u001b[0;36mread_excel\u001b[1;34m(io, sheet_name, header, names, index_col, usecols, squeeze, dtype, engine, converters, true_values, false_values, skiprows, nrows, na_values, keep_default_na, na_filter, verbose, parse_dates, date_parser, thousands, decimal, comment, skipfooter, convert_float, mangle_dupe_cols, storage_options)\u001b[0m\n\u001b[0;32m    480\u001b[0m \u001b[38;5;28;01mif\u001b[39;00m \u001b[38;5;129;01mnot\u001b[39;00m \u001b[38;5;28misinstance\u001b[39m(io, ExcelFile):\n\u001b[0;32m    481\u001b[0m     should_close \u001b[38;5;241m=\u001b[39m \u001b[38;5;28;01mTrue\u001b[39;00m\n\u001b[1;32m--> 482\u001b[0m     io \u001b[38;5;241m=\u001b[39m \u001b[43mExcelFile\u001b[49m\u001b[43m(\u001b[49m\u001b[43mio\u001b[49m\u001b[43m,\u001b[49m\u001b[43m \u001b[49m\u001b[43mstorage_options\u001b[49m\u001b[38;5;241;43m=\u001b[39;49m\u001b[43mstorage_options\u001b[49m\u001b[43m,\u001b[49m\u001b[43m \u001b[49m\u001b[43mengine\u001b[49m\u001b[38;5;241;43m=\u001b[39;49m\u001b[43mengine\u001b[49m\u001b[43m)\u001b[49m\n\u001b[0;32m    483\u001b[0m \u001b[38;5;28;01melif\u001b[39;00m engine \u001b[38;5;129;01mand\u001b[39;00m engine \u001b[38;5;241m!=\u001b[39m io\u001b[38;5;241m.\u001b[39mengine:\n\u001b[0;32m    484\u001b[0m     \u001b[38;5;28;01mraise\u001b[39;00m \u001b[38;5;167;01mValueError\u001b[39;00m(\n\u001b[0;32m    485\u001b[0m         \u001b[38;5;124m\"\u001b[39m\u001b[38;5;124mEngine should not be specified when passing \u001b[39m\u001b[38;5;124m\"\u001b[39m\n\u001b[0;32m    486\u001b[0m         \u001b[38;5;124m\"\u001b[39m\u001b[38;5;124man ExcelFile - ExcelFile already has the engine set\u001b[39m\u001b[38;5;124m\"\u001b[39m\n\u001b[0;32m    487\u001b[0m     )\n",
      "File \u001b[1;32m~\\.conda\\envs\\gds\\lib\\site-packages\\pandas\\io\\excel\\_base.py:1652\u001b[0m, in \u001b[0;36mExcelFile.__init__\u001b[1;34m(self, path_or_buffer, engine, storage_options)\u001b[0m\n\u001b[0;32m   1650\u001b[0m     ext \u001b[38;5;241m=\u001b[39m \u001b[38;5;124m\"\u001b[39m\u001b[38;5;124mxls\u001b[39m\u001b[38;5;124m\"\u001b[39m\n\u001b[0;32m   1651\u001b[0m \u001b[38;5;28;01melse\u001b[39;00m:\n\u001b[1;32m-> 1652\u001b[0m     ext \u001b[38;5;241m=\u001b[39m \u001b[43minspect_excel_format\u001b[49m\u001b[43m(\u001b[49m\n\u001b[0;32m   1653\u001b[0m \u001b[43m        \u001b[49m\u001b[43mcontent_or_path\u001b[49m\u001b[38;5;241;43m=\u001b[39;49m\u001b[43mpath_or_buffer\u001b[49m\u001b[43m,\u001b[49m\u001b[43m \u001b[49m\u001b[43mstorage_options\u001b[49m\u001b[38;5;241;43m=\u001b[39;49m\u001b[43mstorage_options\u001b[49m\n\u001b[0;32m   1654\u001b[0m \u001b[43m    \u001b[49m\u001b[43m)\u001b[49m\n\u001b[0;32m   1655\u001b[0m     \u001b[38;5;28;01mif\u001b[39;00m ext \u001b[38;5;129;01mis\u001b[39;00m \u001b[38;5;28;01mNone\u001b[39;00m:\n\u001b[0;32m   1656\u001b[0m         \u001b[38;5;28;01mraise\u001b[39;00m \u001b[38;5;167;01mValueError\u001b[39;00m(\n\u001b[0;32m   1657\u001b[0m             \u001b[38;5;124m\"\u001b[39m\u001b[38;5;124mExcel file format cannot be determined, you must specify \u001b[39m\u001b[38;5;124m\"\u001b[39m\n\u001b[0;32m   1658\u001b[0m             \u001b[38;5;124m\"\u001b[39m\u001b[38;5;124man engine manually.\u001b[39m\u001b[38;5;124m\"\u001b[39m\n\u001b[0;32m   1659\u001b[0m         )\n",
      "File \u001b[1;32m~\\.conda\\envs\\gds\\lib\\site-packages\\pandas\\io\\excel\\_base.py:1525\u001b[0m, in \u001b[0;36minspect_excel_format\u001b[1;34m(content_or_path, storage_options)\u001b[0m\n\u001b[0;32m   1522\u001b[0m \u001b[38;5;28;01mif\u001b[39;00m \u001b[38;5;28misinstance\u001b[39m(content_or_path, \u001b[38;5;28mbytes\u001b[39m):\n\u001b[0;32m   1523\u001b[0m     content_or_path \u001b[38;5;241m=\u001b[39m BytesIO(content_or_path)\n\u001b[1;32m-> 1525\u001b[0m \u001b[38;5;28;01mwith\u001b[39;00m \u001b[43mget_handle\u001b[49m\u001b[43m(\u001b[49m\n\u001b[0;32m   1526\u001b[0m \u001b[43m    \u001b[49m\u001b[43mcontent_or_path\u001b[49m\u001b[43m,\u001b[49m\u001b[43m \u001b[49m\u001b[38;5;124;43m\"\u001b[39;49m\u001b[38;5;124;43mrb\u001b[39;49m\u001b[38;5;124;43m\"\u001b[39;49m\u001b[43m,\u001b[49m\u001b[43m \u001b[49m\u001b[43mstorage_options\u001b[49m\u001b[38;5;241;43m=\u001b[39;49m\u001b[43mstorage_options\u001b[49m\u001b[43m,\u001b[49m\u001b[43m \u001b[49m\u001b[43mis_text\u001b[49m\u001b[38;5;241;43m=\u001b[39;49m\u001b[38;5;28;43;01mFalse\u001b[39;49;00m\n\u001b[0;32m   1527\u001b[0m \u001b[43m\u001b[49m\u001b[43m)\u001b[49m \u001b[38;5;28;01mas\u001b[39;00m handle:\n\u001b[0;32m   1528\u001b[0m     stream \u001b[38;5;241m=\u001b[39m handle\u001b[38;5;241m.\u001b[39mhandle\n\u001b[0;32m   1529\u001b[0m     stream\u001b[38;5;241m.\u001b[39mseek(\u001b[38;5;241m0\u001b[39m)\n",
      "File \u001b[1;32m~\\.conda\\envs\\gds\\lib\\site-packages\\pandas\\io\\common.py:865\u001b[0m, in \u001b[0;36mget_handle\u001b[1;34m(path_or_buf, mode, encoding, compression, memory_map, is_text, errors, storage_options)\u001b[0m\n\u001b[0;32m    856\u001b[0m         handle \u001b[38;5;241m=\u001b[39m \u001b[38;5;28mopen\u001b[39m(\n\u001b[0;32m    857\u001b[0m             handle,\n\u001b[0;32m    858\u001b[0m             ioargs\u001b[38;5;241m.\u001b[39mmode,\n\u001b[1;32m   (...)\u001b[0m\n\u001b[0;32m    861\u001b[0m             newline\u001b[38;5;241m=\u001b[39m\u001b[38;5;124m\"\u001b[39m\u001b[38;5;124m\"\u001b[39m,\n\u001b[0;32m    862\u001b[0m         )\n\u001b[0;32m    863\u001b[0m     \u001b[38;5;28;01melse\u001b[39;00m:\n\u001b[0;32m    864\u001b[0m         \u001b[38;5;66;03m# Binary mode\u001b[39;00m\n\u001b[1;32m--> 865\u001b[0m         handle \u001b[38;5;241m=\u001b[39m \u001b[38;5;28;43mopen\u001b[39;49m\u001b[43m(\u001b[49m\u001b[43mhandle\u001b[49m\u001b[43m,\u001b[49m\u001b[43m \u001b[49m\u001b[43mioargs\u001b[49m\u001b[38;5;241;43m.\u001b[39;49m\u001b[43mmode\u001b[49m\u001b[43m)\u001b[49m\n\u001b[0;32m    866\u001b[0m     handles\u001b[38;5;241m.\u001b[39mappend(handle)\n\u001b[0;32m    868\u001b[0m \u001b[38;5;66;03m# Convert BytesIO or file objects passed with an encoding\u001b[39;00m\n",
      "\u001b[1;31mFileNotFoundError\u001b[0m: [Errno 2] No such file or directory: 'data/Roads_InfoAboutEachLRP.xlsx'"
     ]
    }
   ],
   "source": [
    "# import data\n",
    "df = pd.read_excel('data/Roads_InfoAboutEachLRP.xlsx')\n",
    "bridges1 = pd.read_excel('data/Bridges.xlsx')\n",
    "bridge2 = pd.read_excel('data/BMMS_overview.xlsx')"
   ]
  },
  {
   "cell_type": "code",
   "execution_count": null,
   "metadata": {},
   "outputs": [],
   "source": [
    "df.head()"
   ]
  },
  {
   "cell_type": "code",
   "execution_count": null,
   "metadata": {},
   "outputs": [],
   "source": [
    "df.nunique()"
   ]
  },
  {
   "cell_type": "code",
   "execution_count": null,
   "metadata": {},
   "outputs": [],
   "source": [
    "sns.set_style('darkgrid')\n",
    "sns.scatterplot(x='lon', y='lat', data=df.loc[df.road=='N1'])"
   ]
  },
  {
   "cell_type": "markdown",
   "metadata": {},
   "source": [
    "## capture the LRP with faulty coordinates for all roads "
   ]
  },
  {
   "cell_type": "code",
   "execution_count": 6,
   "metadata": {},
   "outputs": [],
   "source": [
    "# lets try a first run for only N1\n",
    "# compute moving average for lon ant lat of current LRP: take last and next five values and compute median\n",
    "# if current LRP coordinates are outside [median * 99.9% ; median * 100.1%] -> overwrite value "
   ]
  },
  {
   "cell_type": "code",
   "execution_count": 20,
   "metadata": {},
   "outputs": [
    {
     "data": {
      "text/plain": [
       "(1348, 7)"
      ]
     },
     "execution_count": 20,
     "metadata": {},
     "output_type": "execute_result"
    }
   ],
   "source": [
    "N1 = df.loc[df.road=='N1']\n",
    "N1.shape"
   ]
  },
  {
   "cell_type": "code",
   "execution_count": 21,
   "metadata": {},
   "outputs": [],
   "source": [
    "for i in N1.index:\n",
    "    # check if i is inside first or last five iterations and compute moving averages acordingly \n",
    "    while i < 5: \n",
    "        # capture confidence interval in absolute terms (not with multiplicator)\n",
    "        x_min, x_max = N1.loc[i:i+5,'lon'].median() * 0.999 , N1.loc[i:i+5,'lon'].median() * 1.001\n",
    "        y_min, y_max = N1.loc[i:i+5,'lat'].median() * 0.999 , N1.loc[i:i+5,'lat'].median() * 1.001\n",
    "\n",
    "        if not x_min <  N1.loc[i,'lon'] < x_max: # check for outliers and overwrite \n",
    "            N1.loc[i,'lon'] = (N1.loc[i-1,'lon'] + N1.loc[i+1,'lon']) / 2 # position point right in between last and next point \n",
    "            done = False\n",
    "\n",
    "        if not y_min < N1.loc[i,'lat'] < y_max:\n",
    "            N1.loc[i,'lat'] = (N1.loc[i-1,'lat'] + N1.loc[i+1,'lat']) / 2 # position point right in between last and next point \n",
    "        i+=1\n",
    "        break\n",
    "\n",
    "    while i in range(5, len(N1)-5):\n",
    "        x_min, x_max = N1.loc[i-5:i+5,'lon'].median() * .999 , N1.loc[i-5:i+5,'lon'].median() * 1.001 # how big do we want to make search depth?\n",
    "        y_min, y_max = N1.loc[i-5:i+5,'lat'].median() * .999,  N1.loc[i-5:i+5,'lat'].median() * 1.001 \n",
    "        \n",
    "        if not x_min <  N1.loc[i,'lon'] < x_max: # check for outliers and overwrite \n",
    "            N1.loc[i,'lon'] = (N1.loc[i-1,'lon'] + N1.loc[i+1,'lon']) / 2 # position point right in between last and next point \n",
    "\n",
    "        if not y_min < N1.loc[i,'lat'] < y_max:\n",
    "            N1.loc[i,'lat'] = (N1.loc[i-1,'lat'] + N1.loc[i+1,'lat']) / 2 # position point right in between last and next point \n",
    "        i+=1\n",
    "        break\n",
    "\n",
    "    while i > len(N1)-5:\n",
    "        x_min, x_max = N1.loc[i-5:i,'lon'].median() * 0.999 , N1.loc[i-5:i,'lon'].median() * 1.001\n",
    "        y_min, y_max = N1.loc[i-5:i,'lat'].median() * 0.999 , N1.loc[i-5:i,'lat'].median() * 1.001\n",
    "        \n",
    "        if not x_min <  N1.loc[i,'lon'] < x_max: # check for outliers and overwrite \n",
    "            N1.loc[i,'lon'] = (N1.loc[i-1,'lon'] + N1.loc[i+1,'lon']) / 2 # position point right in between last and next point \n",
    "\n",
    "        if not y_min < N1.loc[i,'lat'] < y_max:\n",
    "            N1.loc[i,'lat'] = (N1.loc[i-1,'lat'] + N1.loc[i+1,'lat']) / 2 # position point right in between last and next point \n",
    "        i += 1\n",
    "        break"
   ]
  },
  {
   "cell_type": "code",
   "execution_count": 22,
   "metadata": {},
   "outputs": [
    {
     "data": {
      "text/plain": [
       "<AxesSubplot: xlabel='lon', ylabel='lat'>"
      ]
     },
     "execution_count": 22,
     "metadata": {},
     "output_type": "execute_result"
    },
    {
     "data": {
      "image/png": "[encoded data removed]",
      "text/plain": [
       "<Figure size 640x480 with 1 Axes>"
      ]
     },
     "metadata": {},
     "output_type": "display_data"
    }
   ],
   "source": [
    "sns.scatterplot(x='lon',y='lat',data=N1)"
   ]
  },
  {
   "cell_type": "code",
   "execution_count": 9,
   "metadata": {},
   "outputs": [
    {
     "ename": "KeyboardInterrupt",
     "evalue": "",
     "output_type": "error",
     "traceback": [
      "\u001b[0;31m---------------------------------------------------------------------------\u001b[0m",
      "\u001b[0;31mKeyboardInterrupt\u001b[0m                         Traceback (most recent call last)",
      "Cell \u001b[0;32mIn[9], line 32\u001b[0m\n\u001b[1;32m     29\u001b[0m     \u001b[38;5;28;01mbreak\u001b[39;00m\n\u001b[1;32m     31\u001b[0m \u001b[38;5;28;01mwhile\u001b[39;00m i \u001b[38;5;241m>\u001b[39m \u001b[38;5;28mlen\u001b[39m(df)\u001b[38;5;241m-\u001b[39m\u001b[38;5;241m5\u001b[39m:\n\u001b[0;32m---> 32\u001b[0m     x_min, x_max \u001b[38;5;241m=\u001b[39m df\u001b[38;5;241m.\u001b[39mloc[i\u001b[38;5;241m-\u001b[39m\u001b[38;5;241m5\u001b[39m:i,\u001b[38;5;124m'\u001b[39m\u001b[38;5;124mlon\u001b[39m\u001b[38;5;124m'\u001b[39m]\u001b[38;5;241m.\u001b[39mmedian() \u001b[38;5;241m*\u001b[39m \u001b[38;5;241m0.999\u001b[39m , \u001b[43mdf\u001b[49m\u001b[38;5;241;43m.\u001b[39;49m\u001b[43mloc\u001b[49m\u001b[43m[\u001b[49m\u001b[43mi\u001b[49m\u001b[38;5;241;43m-\u001b[39;49m\u001b[38;5;241;43m5\u001b[39;49m\u001b[43m:\u001b[49m\u001b[43mi\u001b[49m\u001b[43m,\u001b[49m\u001b[38;5;124;43m'\u001b[39;49m\u001b[38;5;124;43mlon\u001b[39;49m\u001b[38;5;124;43m'\u001b[39;49m\u001b[43m]\u001b[49m\u001b[38;5;241;43m.\u001b[39;49m\u001b[43mmedian\u001b[49m\u001b[43m(\u001b[49m\u001b[43m)\u001b[49m \u001b[38;5;241m*\u001b[39m \u001b[38;5;241m1.001\u001b[39m\n\u001b[1;32m     33\u001b[0m     y_min, y_max \u001b[38;5;241m=\u001b[39m df\u001b[38;5;241m.\u001b[39mloc[i\u001b[38;5;241m-\u001b[39m\u001b[38;5;241m5\u001b[39m:i,\u001b[38;5;124m'\u001b[39m\u001b[38;5;124mlat\u001b[39m\u001b[38;5;124m'\u001b[39m]\u001b[38;5;241m.\u001b[39mmedian() \u001b[38;5;241m*\u001b[39m \u001b[38;5;241m0.999\u001b[39m , df\u001b[38;5;241m.\u001b[39mloc[i\u001b[38;5;241m-\u001b[39m\u001b[38;5;241m5\u001b[39m:i,\u001b[38;5;124m'\u001b[39m\u001b[38;5;124mlat\u001b[39m\u001b[38;5;124m'\u001b[39m]\u001b[38;5;241m.\u001b[39mmedian() \u001b[38;5;241m*\u001b[39m \u001b[38;5;241m1.001\u001b[39m\n\u001b[1;32m     35\u001b[0m     \u001b[38;5;28;01mif\u001b[39;00m \u001b[38;5;129;01mnot\u001b[39;00m x_min \u001b[38;5;241m<\u001b[39m  df\u001b[38;5;241m.\u001b[39mloc[i,\u001b[38;5;124m'\u001b[39m\u001b[38;5;124mlon\u001b[39m\u001b[38;5;124m'\u001b[39m] \u001b[38;5;241m<\u001b[39m x_max: \u001b[38;5;66;03m# check for outliers and overwrite \u001b[39;00m\n",
      "File \u001b[0;32m~/opt/anaconda3/envs/advsim/lib/python3.9/site-packages/pandas/core/generic.py:11917\u001b[0m, in \u001b[0;36mNDFrame._add_numeric_operations.<locals>.median\u001b[0;34m(self, axis, skipna, level, numeric_only, **kwargs)\u001b[0m\n\u001b[1;32m  11899\u001b[0m \u001b[39m@doc\u001b[39m(\n\u001b[1;32m  11900\u001b[0m     _num_doc,\n\u001b[1;32m  11901\u001b[0m     desc\u001b[39m=\u001b[39m\u001b[39m\"\u001b[39m\u001b[39mReturn the median of the values over the requested axis.\u001b[39m\u001b[39m\"\u001b[39m,\n\u001b[0;32m   (...)\u001b[0m\n\u001b[1;32m  11915\u001b[0m     \u001b[39m*\u001b[39m\u001b[39m*\u001b[39mkwargs,\n\u001b[1;32m  11916\u001b[0m ):\n\u001b[0;32m> 11917\u001b[0m     \u001b[39mreturn\u001b[39;00m NDFrame\u001b[39m.\u001b[39;49mmedian(\u001b[39mself\u001b[39;49m, axis, skipna, level, numeric_only, \u001b[39m*\u001b[39;49m\u001b[39m*\u001b[39;49mkwargs)\n",
      "File \u001b[0;32m~/opt/anaconda3/envs/advsim/lib/python3.9/site-packages/pandas/core/generic.py:11413\u001b[0m, in \u001b[0;36mNDFrame.median\u001b[0;34m(self, axis, skipna, level, numeric_only, **kwargs)\u001b[0m\n\u001b[1;32m  11405\u001b[0m \u001b[39mdef\u001b[39;00m \u001b[39mmedian\u001b[39m(\n\u001b[1;32m  11406\u001b[0m     \u001b[39mself\u001b[39m,\n\u001b[1;32m  11407\u001b[0m     axis: Axis \u001b[39m|\u001b[39m \u001b[39mNone\u001b[39;00m \u001b[39m|\u001b[39m lib\u001b[39m.\u001b[39mNoDefault \u001b[39m=\u001b[39m lib\u001b[39m.\u001b[39mno_default,\n\u001b[0;32m   (...)\u001b[0m\n\u001b[1;32m  11411\u001b[0m     \u001b[39m*\u001b[39m\u001b[39m*\u001b[39mkwargs,\n\u001b[1;32m  11412\u001b[0m ) \u001b[39m-\u001b[39m\u001b[39m>\u001b[39m Series \u001b[39m|\u001b[39m \u001b[39mfloat\u001b[39m:\n\u001b[0;32m> 11413\u001b[0m     \u001b[39mreturn\u001b[39;00m \u001b[39mself\u001b[39;49m\u001b[39m.\u001b[39;49m_stat_function(\n\u001b[1;32m  11414\u001b[0m         \u001b[39m\"\u001b[39;49m\u001b[39mmedian\u001b[39;49m\u001b[39m\"\u001b[39;49m, nanops\u001b[39m.\u001b[39;49mnanmedian, axis, skipna, level, numeric_only, \u001b[39m*\u001b[39;49m\u001b[39m*\u001b[39;49mkwargs\n\u001b[1;32m  11415\u001b[0m     )\n",
      "File \u001b[0;32m~/opt/anaconda3/envs/advsim/lib/python3.9/site-packages/pandas/core/generic.py:11353\u001b[0m, in \u001b[0;36mNDFrame._stat_function\u001b[0;34m(self, name, func, axis, skipna, level, numeric_only, **kwargs)\u001b[0m\n\u001b[1;32m  11343\u001b[0m     warnings\u001b[39m.\u001b[39mwarn(\n\u001b[1;32m  11344\u001b[0m         \u001b[39m\"\u001b[39m\u001b[39mUsing the level keyword in DataFrame and Series aggregations is \u001b[39m\u001b[39m\"\u001b[39m\n\u001b[1;32m  11345\u001b[0m         \u001b[39m\"\u001b[39m\u001b[39mdeprecated and will be removed in a future version. Use groupby \u001b[39m\u001b[39m\"\u001b[39m\n\u001b[0;32m   (...)\u001b[0m\n\u001b[1;32m  11348\u001b[0m         stacklevel\u001b[39m=\u001b[39mfind_stack_level(),\n\u001b[1;32m  11349\u001b[0m     )\n\u001b[1;32m  11350\u001b[0m     \u001b[39mreturn\u001b[39;00m \u001b[39mself\u001b[39m\u001b[39m.\u001b[39m_agg_by_level(\n\u001b[1;32m  11351\u001b[0m         name, axis\u001b[39m=\u001b[39maxis, level\u001b[39m=\u001b[39mlevel, skipna\u001b[39m=\u001b[39mskipna, numeric_only\u001b[39m=\u001b[39mnumeric_only\n\u001b[1;32m  11352\u001b[0m     )\n\u001b[0;32m> 11353\u001b[0m \u001b[39mreturn\u001b[39;00m \u001b[39mself\u001b[39;49m\u001b[39m.\u001b[39;49m_reduce(\n\u001b[1;32m  11354\u001b[0m     func, name\u001b[39m=\u001b[39;49mname, axis\u001b[39m=\u001b[39;49maxis, skipna\u001b[39m=\u001b[39;49mskipna, numeric_only\u001b[39m=\u001b[39;49mnumeric_only\n\u001b[1;32m  11355\u001b[0m )\n",
      "File \u001b[0;32m~/opt/anaconda3/envs/advsim/lib/python3.9/site-packages/pandas/core/series.py:4793\u001b[0m, in \u001b[0;36mSeries._reduce\u001b[0;34m(self, op, name, axis, skipna, numeric_only, filter_type, **kwds)\u001b[0m\n\u001b[1;32m   4790\u001b[0m delegate \u001b[39m=\u001b[39m \u001b[39mself\u001b[39m\u001b[39m.\u001b[39m_values\n\u001b[1;32m   4792\u001b[0m \u001b[39mif\u001b[39;00m axis \u001b[39mis\u001b[39;00m \u001b[39mnot\u001b[39;00m \u001b[39mNone\u001b[39;00m:\n\u001b[0;32m-> 4793\u001b[0m     \u001b[39mself\u001b[39;49m\u001b[39m.\u001b[39;49m_get_axis_number(axis)\n\u001b[1;32m   4795\u001b[0m \u001b[39mif\u001b[39;00m \u001b[39misinstance\u001b[39m(delegate, ExtensionArray):\n\u001b[1;32m   4796\u001b[0m     \u001b[39m# dispatch to ExtensionArray interface\u001b[39;00m\n\u001b[1;32m   4797\u001b[0m     \u001b[39mreturn\u001b[39;00m delegate\u001b[39m.\u001b[39m_reduce(name, skipna\u001b[39m=\u001b[39mskipna, \u001b[39m*\u001b[39m\u001b[39m*\u001b[39mkwds)\n",
      "File \u001b[0;32m~/opt/anaconda3/envs/advsim/lib/python3.9/site-packages/pandas/core/generic.py:553\u001b[0m, in \u001b[0;36mNDFrame._get_axis_number\u001b[0;34m(cls, axis)\u001b[0m\n\u001b[1;32m    550\u001b[0m \u001b[39m@final\u001b[39m\n\u001b[1;32m    551\u001b[0m \u001b[39m@classmethod\u001b[39m\n\u001b[1;32m    552\u001b[0m \u001b[39mdef\u001b[39;00m \u001b[39m_get_axis_number\u001b[39m(\u001b[39mcls\u001b[39m, axis: Axis) \u001b[39m-\u001b[39m\u001b[39m>\u001b[39m \u001b[39mint\u001b[39m:\n\u001b[0;32m--> 553\u001b[0m     \u001b[39mtry\u001b[39;00m:\n\u001b[1;32m    554\u001b[0m         \u001b[39mreturn\u001b[39;00m \u001b[39mcls\u001b[39m\u001b[39m.\u001b[39m_AXIS_TO_AXIS_NUMBER[axis]\n\u001b[1;32m    555\u001b[0m     \u001b[39mexcept\u001b[39;00m \u001b[39mKeyError\u001b[39;00m:\n",
      "\u001b[0;31mKeyboardInterrupt\u001b[0m: "
     ]
    }
   ],
   "source": [
    "for i in df.index:\n",
    "    # check if i is inside first or last five iterations and compute moving averages acordingly \n",
    "    while i < 5: \n",
    "        x_min, x_max = df.loc[i:i+5,'lon'].median() * 0.999 , df.loc[i:i+5,'lon'].median() * 1.001\n",
    "        y_min, y_max = df.loc[i:i+5,'lat'].median() * 0.999 , df.loc[i:i+5,'lat'].median() * 1.001\n",
    "\n",
    "        if not x_min <  df.loc[i,'lon'] < x_max: # check for outliers and overwrite \n",
    "            df.loc[i,'lon'] = (df.loc[i-1,'lon'] + df.loc[i+1,'lon']) / 2 # position point right in between last and next point \n",
    "            done = False\n",
    "\n",
    "        if not y_min < df.loc[i,'lat'] < y_max:\n",
    "            df.loc[i,'lat'] = (df.loc[i-1,'lat'] + df.loc[i+1,'lat']) / 2 # position point right in between last and next point \n",
    "            done = False\n",
    "        i+=1\n",
    "        break\n",
    "\n",
    "    while i in range(5, len(df)-5):\n",
    "        x_min, x_max = df.loc[i-5:i+5,'lon'].median() * .999 , df.loc[i-5:i+5,'lon'].median() * 1.001 # how big do we want to make search depth?\n",
    "        y_min, y_max = df.loc[i-5:i+5,'lat'].median() * .999,  df.loc[i-5:i+5,'lat'].median() * 1.001 \n",
    "        \n",
    "        if not x_min <  df.loc[i,'lon'] < x_max: # check for outliers and overwrite \n",
    "            df.loc[i,'lon'] = (df.loc[i-1,'lon'] + df.loc[i+1,'lon']) / 2 # position point right in between last and next point \n",
    "            done = False\n",
    "\n",
    "        if not y_min < df.loc[i,'lat'] < y_max:\n",
    "            df.loc[i,'lat'] = (df.loc[i-1,'lat'] + df.loc[i+1,'lat']) / 2 # position point right in between last and next point \n",
    "            done = False \n",
    "        i+=1\n",
    "        break\n",
    "\n",
    "    while i > len(df)-5:\n",
    "        x_min, x_max = df.loc[i-5:i,'lon'].median() * 0.999 , df.loc[i-5:i,'lon'].median() * 1.001\n",
    "        y_min, y_max = df.loc[i-5:i,'lat'].median() * 0.999 , df.loc[i-5:i,'lat'].median() * 1.001\n",
    "        \n",
    "        if not x_min <  df.loc[i,'lon'] < x_max: # check for outliers and overwrite \n",
    "            df.loc[i,'lon'] = (df.loc[i-1,'lon'] + df.loc[i+1,'lon']) / 2 # position point right in between last and next point \n",
    "            done = False \n",
    "\n",
    "        if not y_min < df.loc[i,'lat'] < y_max:\n",
    "            df.loc[i,'lat'] = (df.loc[i-1,'lat'] + df.loc[i+1,'lat']) / 2 # position point right in between last and next point \n",
    "            done = False \n",
    "            break"
   ]
  },
  {
   "cell_type": "code",
   "execution_count": null,
   "metadata": {},
   "outputs": [],
   "source": []
  },
  {
   "cell_type": "code",
   "execution_count": null,
   "metadata": {},
   "outputs": [],
   "source": [
    "# trial run 2: brak only after all points are corrected \n",
    "# does it work with erasing break statements? \n",
    "\n",
    "# currently produces indexing error at last entry! (i running from 1 to n)"
   ]
  },
  {
   "cell_type": "code",
   "execution_count": null,
   "metadata": {},
   "outputs": [],
   "source": [
    "for i in N1.index + 1:\n",
    "    # check if i is inside first or last five iterations and compute moving averages acordingly \n",
    "    while i < 5: \n",
    "        x_min, x_max = N1.loc[i:i+5,'lon'].median() * 0.999 , N1.loc[i:i+5,'lon'].median() * 1.001\n",
    "        y_min, y_max = N1.loc[i:i+5,'lat'].median() * 0.999 , N1.loc[i:i+5,'lat'].median() * 1.001\n",
    "\n",
    "        if not x_min <  N1.loc[i,'lon'] < x_max: # check for outliers and overwrite \n",
    "            N1.loc[i,'lon'] = (N1.loc[i-1,'lon'] + N1.loc[i+1,'lon']) / 2 # position point right in between last and next point \n",
    "        if not y_min < N1.loc[i,'lat'] < y_max:\n",
    "            N1.loc[i,'lat'] = (N1.loc[i-1,'lat'] + N1.loc[i+1,'lat']) / 2 # position point right in between last and next point \n",
    "        i+=1\n",
    "\n",
    "    while i in range(5, len(N1)-5):\n",
    "        x_min, x_max = N1.loc[i-5:i+5,'lon'].median() * .999 , N1.loc[i-5:i+5,'lon'].median() * 1.001 # how big do we want to make search depth?\n",
    "        y_min, y_max = N1.loc[i-5:i+5,'lat'].median() * .999,  N1.loc[i-5:i+5,'lat'].median() * 1.001 \n",
    "        \n",
    "        if not x_min <  N1.loc[i,'lon'] < x_max: # check for outliers and overwrite \n",
    "            N1.loc[i,'lon'] = (N1.loc[i-1,'lon'] + N1.loc[i+1,'lon']) / 2 # position point right in between last and next point \n",
    "        if not y_min < N1.loc[i,'lat'] < y_max:\n",
    "            N1.loc[i,'lat'] = (N1.loc[i-1,'lat'] + N1.loc[i+1,'lat']) / 2 # position point right in between last and next point \n",
    "        i+=1\n",
    "\n",
    "    while i > len(N1)-5:\n",
    "        x_min, x_max = N1.loc[i-5:i,'lon'].median() * 0.999 , N1.loc[i-5:i,'lon'].median() * 1.001\n",
    "        y_min, y_max = N1.loc[i-5:i,'lat'].median() * 0.999 , N1.loc[i-5:i,'lat'].median() * 1.001\n",
    "        \n",
    "        if not x_min <  N1.loc[i-1,'lon'] < x_max: # check for outliers and overwrite \n",
    "            N1.loc[i,'lon'] = (N1.loc[i-1,'lon'] + N1.loc[i+1,'lon']) / 2 # position point right in between last and next point\n",
    "        if not y_min < N1.loc[i-1,'lat'] < y_max:\n",
    "            N1.loc[i,'lat'] = (N1.loc[i-1,'lat'] + N1.loc[i+1,'lat']) / 2 # position point right in between last and next point \n",
    "        i+=1"
   ]
  },
  {
   "cell_type": "code",
   "execution_count": null,
   "metadata": {},
   "outputs": [],
   "source": [
    "sns.scatterplot(x='lon',y='lat',data=N1)"
   ]
  },
  {
   "cell_type": "code",
   "execution_count": null,
   "metadata": {},
   "outputs": [],
   "source": [
    "# lets try with all roads at once! "
   ]
  },
  {
   "cell_type": "code",
   "execution_count": null,
   "metadata": {},
   "outputs": [],
   "source": [
    "keys = df.road.unique()\n",
    "for i in df.index: \n",
    "    while keys[i] == df.road.loc[i]:\n",
    "        print(i)\n",
    "        \n"
   ]
  },
  {
   "cell_type": "code",
   "execution_count": null,
   "metadata": {},
   "outputs": [],
   "source": [
    "for i in N1.index:\n",
    "    # check if i is inside first or last five iterations and compute moving averages acordingly \n",
    "    while i < 5: \n",
    "        x_min, x_max = N1.loc[i:i+5,'lon'].median() * 0.999 , N1.loc[i:i+5,'lon'].median() * 1.001\n",
    "        y_min, y_max = N1.loc[i:i+5,'lat'].median() * 0.999 , N1.loc[i:i+5,'lat'].median() * 1.001\n",
    "\n",
    "        if not x_min <  N1.loc[i,'lon'] < x_max: # check for outliers and overwrite \n",
    "            N1.loc[i,'lon'] = (N1.loc[i-1,'lon'] + N1.loc[i+1,'lon']) / 2 # position point right in between last and next point \n",
    "            done = False\n",
    "\n",
    "        if not y_min < N1.loc[i,'lat'] < y_max:\n",
    "            N1.loc[i,'lat'] = (N1.loc[i-1,'lat'] + N1.loc[i+1,'lat']) / 2 # position point right in between last and next point \n",
    "            done = False\n",
    "        i+=1\n",
    "        break\n",
    "\n",
    "    while i in range(5, len(N1)-5):\n",
    "        x_min, x_max = N1.loc[i-5:i+5,'lon'].median() * .999 , N1.loc[i-5:i+5,'lon'].median() * 1.001 # how big do we want to make search depth?\n",
    "        y_min, y_max = N1.loc[i-5:i+5,'lat'].median() * .999,  N1.loc[i-5:i+5,'lat'].median() * 1.001 \n",
    "        \n",
    "        if not x_min <  N1.loc[i,'lon'] < x_max: # check for outliers and overwrite \n",
    "            N1.loc[i,'lon'] = (N1.loc[i-1,'lon'] + N1.loc[i+1,'lon']) / 2 # position point right in between last and next point \n",
    "            done = False\n",
    "\n",
    "        if not y_min < N1.loc[i,'lat'] < y_max:\n",
    "            N1.loc[i,'lat'] = (N1.loc[i-1,'lat'] + N1.loc[i+1,'lat']) / 2 # position point right in between last and next point \n",
    "            done = False \n",
    "        i+=1\n",
    "        break\n",
    "\n",
    "    while i > len(N1)-5:\n",
    "        x_min, x_max = N1.loc[i-5:i,'lon'].median() * 0.999 , N1.loc[i-5:i,'lon'].median() * 1.001\n",
    "        y_min, y_max = N1.loc[i-5:i,'lat'].median() * 0.999 , N1.loc[i-5:i,'lat'].median() * 1.001\n",
    "        \n",
    "        if not x_min <  N1.loc[i,'lon'] < x_max: # check for outliers and overwrite \n",
    "            N1.loc[i,'lon'] = (N1.loc[i-1,'lon'] + N1.loc[i+1,'lon']) / 2 # position point right in between last and next point \n",
    "            done = False \n",
    "\n",
    "        if not y_min < N1.loc[i,'lat'] < y_max:\n",
    "            N1.loc[i,'lat'] = (N1.loc[i-1,'lat'] + N1.loc[i+1,'lat']) / 2 # position point right in between last and next point \n",
    "            done = False \n",
    "        break"
   ]
  },
  {
   "cell_type": "code",
   "execution_count": null,
   "metadata": {},
   "outputs": [],
   "source": [
    "# do rough cleaning with average \n",
    "# then do more sophisticated cleaning: \n",
    "# write a function to capture the faulty points + correct them \n",
    "    # look only in last and next 1 point and use kde estimate \n",
    "    # call function in a nested list [for name in road names]\n",
    "\n",
    "# do it for one road and plot it\n",
    "    # see how many iterations you need to make it really clean \n",
    "    # use this as a benchmark for the entire data set \n",
    "\n",
    "    # further (thougths for the report): use bridge data to compare \n",
    "    # use google maps to compare \n",
    "\n",
    "    \n"
   ]
  }
 ],
 "metadata": {
  "kernelspec": {
   "display_name": "Python 3 (ipykernel)",
   "language": "python",
   "name": "python3"
  },
  "language_info": {
   "codemirror_mode": {
    "name": "ipython",
    "version": 3
   },
   "file_extension": ".py",
   "mimetype": "text/x-python",
   "name": "python",
   "nbconvert_exporter": "python",
   "pygments_lexer": "ipython3",
   "version": "3.9.15"
  },
  "vscode": {
   "interpreter": {
    "hash": "5898551c6b6fde02aa0cb1c66148811a3fe308e3e0f78fe740a1292fb326b65e"
   }
  }
 },
 "nbformat": 4,
 "nbformat_minor": 4
}
