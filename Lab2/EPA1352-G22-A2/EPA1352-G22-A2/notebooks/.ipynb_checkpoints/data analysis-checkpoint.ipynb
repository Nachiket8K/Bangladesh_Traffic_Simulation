{
 "cells": [
  {
   "cell_type": "code",
   "execution_count": 5,
   "metadata": {},
   "outputs": [],
   "source": [
    "import pandas as pd\n",
    "import numpy as np\n",
    "import seaborn as sns\n",
    "df = pd.read_csv(\"../experiment/all_scenarios.csv\")"
   ]
  },
  {
   "cell_type": "code",
   "execution_count": 6,
   "metadata": {},
   "outputs": [],
   "source": [
    "%matplotlib inline\n",
    "import matplotlib.pyplot as plt"
   ]
  },
  {
   "cell_type": "code",
   "execution_count": 7,
   "metadata": {},
   "outputs": [],
   "source": [
    "df_sorted = df.sort_values(by = \"Worst bridge delay\", ascending=False)"
   ]
  },
  {
   "cell_type": "code",
   "execution_count": 8,
   "metadata": {},
   "outputs": [
    {
     "data": {
      "text/html": [
       "<div>\n",
       "<style scoped>\n",
       "    .dataframe tbody tr th:only-of-type {\n",
       "        vertical-align: middle;\n",
       "    }\n",
       "\n",
       "    .dataframe tbody tr th {\n",
       "        vertical-align: top;\n",
       "    }\n",
       "\n",
       "    .dataframe thead th {\n",
       "        text-align: right;\n",
       "    }\n",
       "</style>\n",
       "<table border=\"1\" class=\"dataframe\">\n",
       "  <thead>\n",
       "    <tr style=\"text-align: right;\">\n",
       "      <th></th>\n",
       "      <th>Unnamed: 0</th>\n",
       "      <th>prob_A</th>\n",
       "      <th>prob_D</th>\n",
       "      <th>prob_C</th>\n",
       "      <th>prob_B</th>\n",
       "      <th>Run</th>\n",
       "      <th>Average driving time</th>\n",
       "      <th>Probs</th>\n",
       "      <th>Worst bridge delay</th>\n",
       "      <th>Worst bridge name</th>\n",
       "    </tr>\n",
       "  </thead>\n",
       "  <tbody>\n",
       "    <tr>\n",
       "      <th>70</th>\n",
       "      <td>70</td>\n",
       "      <td>0.05</td>\n",
       "      <td>0.1</td>\n",
       "      <td>0.2</td>\n",
       "      <td>0.4</td>\n",
       "      <td>70</td>\n",
       "      <td>999.757258</td>\n",
       "      <td>{'A': 0.05, 'B': 0.1, 'C': 0.2, 'D': 0.4}</td>\n",
       "      <td>141.735009</td>\n",
       "      <td>MEGHNA BRIDGE</td>\n",
       "    </tr>\n",
       "    <tr>\n",
       "      <th>66</th>\n",
       "      <td>66</td>\n",
       "      <td>0.00</td>\n",
       "      <td>0.1</td>\n",
       "      <td>0.2</td>\n",
       "      <td>0.4</td>\n",
       "      <td>66</td>\n",
       "      <td>573.908748</td>\n",
       "      <td>{'A': 0, 'B': 0.1, 'C': 0.2, 'D': 0.4}</td>\n",
       "      <td>141.642987</td>\n",
       "      <td>MEGHNA BRIDGE</td>\n",
       "    </tr>\n",
       "    <tr>\n",
       "      <th>89</th>\n",
       "      <td>89</td>\n",
       "      <td>0.10</td>\n",
       "      <td>0.2</td>\n",
       "      <td>0.4</td>\n",
       "      <td>0.8</td>\n",
       "      <td>89</td>\n",
       "      <td>1196.842941</td>\n",
       "      <td>{'A': 0.1, 'B': 0.2, 'C': 0.4, 'D': 0.8}</td>\n",
       "      <td>141.521068</td>\n",
       "      <td>MEGHNA BRIDGE</td>\n",
       "    </tr>\n",
       "    <tr>\n",
       "      <th>81</th>\n",
       "      <td>81</td>\n",
       "      <td>0.10</td>\n",
       "      <td>0.2</td>\n",
       "      <td>0.4</td>\n",
       "      <td>0.8</td>\n",
       "      <td>81</td>\n",
       "      <td>1367.493151</td>\n",
       "      <td>{'A': 0.1, 'B': 0.2, 'C': 0.4, 'D': 0.8}</td>\n",
       "      <td>141.501881</td>\n",
       "      <td>KANCHPUR PC GIRDER BRIDGE</td>\n",
       "    </tr>\n",
       "    <tr>\n",
       "      <th>62</th>\n",
       "      <td>62</td>\n",
       "      <td>0.00</td>\n",
       "      <td>0.1</td>\n",
       "      <td>0.2</td>\n",
       "      <td>0.4</td>\n",
       "      <td>62</td>\n",
       "      <td>657.662586</td>\n",
       "      <td>{'A': 0, 'B': 0.1, 'C': 0.2, 'D': 0.4}</td>\n",
       "      <td>141.271634</td>\n",
       "      <td>KANCHPUR PC GIRDER BRIDGE</td>\n",
       "    </tr>\n",
       "    <tr>\n",
       "      <th>84</th>\n",
       "      <td>84</td>\n",
       "      <td>0.10</td>\n",
       "      <td>0.2</td>\n",
       "      <td>0.4</td>\n",
       "      <td>0.8</td>\n",
       "      <td>84</td>\n",
       "      <td>1173.084577</td>\n",
       "      <td>{'A': 0.1, 'B': 0.2, 'C': 0.4, 'D': 0.8}</td>\n",
       "      <td>141.211498</td>\n",
       "      <td>KANCHPUR PC GIRDER BRIDGE</td>\n",
       "    </tr>\n",
       "    <tr>\n",
       "      <th>82</th>\n",
       "      <td>82</td>\n",
       "      <td>0.10</td>\n",
       "      <td>0.2</td>\n",
       "      <td>0.4</td>\n",
       "      <td>0.8</td>\n",
       "      <td>82</td>\n",
       "      <td>1487.460192</td>\n",
       "      <td>{'A': 0.1, 'B': 0.2, 'C': 0.4, 'D': 0.8}</td>\n",
       "      <td>141.210276</td>\n",
       "      <td>Daud Kandi Bridge</td>\n",
       "    </tr>\n",
       "  </tbody>\n",
       "</table>\n",
       "</div>"
      ],
      "text/plain": [
       "    Unnamed: 0  prob_A  prob_D  prob_C  prob_B  Run  Average driving time  \\\n",
       "70          70    0.05     0.1     0.2     0.4   70            999.757258   \n",
       "66          66    0.00     0.1     0.2     0.4   66            573.908748   \n",
       "89          89    0.10     0.2     0.4     0.8   89           1196.842941   \n",
       "81          81    0.10     0.2     0.4     0.8   81           1367.493151   \n",
       "62          62    0.00     0.1     0.2     0.4   62            657.662586   \n",
       "84          84    0.10     0.2     0.4     0.8   84           1173.084577   \n",
       "82          82    0.10     0.2     0.4     0.8   82           1487.460192   \n",
       "\n",
       "                                        Probs  Worst bridge delay  \\\n",
       "70  {'A': 0.05, 'B': 0.1, 'C': 0.2, 'D': 0.4}          141.735009   \n",
       "66     {'A': 0, 'B': 0.1, 'C': 0.2, 'D': 0.4}          141.642987   \n",
       "89   {'A': 0.1, 'B': 0.2, 'C': 0.4, 'D': 0.8}          141.521068   \n",
       "81   {'A': 0.1, 'B': 0.2, 'C': 0.4, 'D': 0.8}          141.501881   \n",
       "62     {'A': 0, 'B': 0.1, 'C': 0.2, 'D': 0.4}          141.271634   \n",
       "84   {'A': 0.1, 'B': 0.2, 'C': 0.4, 'D': 0.8}          141.211498   \n",
       "82   {'A': 0.1, 'B': 0.2, 'C': 0.4, 'D': 0.8}          141.210276   \n",
       "\n",
       "            Worst bridge name  \n",
       "70              MEGHNA BRIDGE  \n",
       "66              MEGHNA BRIDGE  \n",
       "89              MEGHNA BRIDGE  \n",
       "81  KANCHPUR PC GIRDER BRIDGE  \n",
       "62  KANCHPUR PC GIRDER BRIDGE  \n",
       "84  KANCHPUR PC GIRDER BRIDGE  \n",
       "82          Daud Kandi Bridge  "
      ]
     },
     "execution_count": 8,
     "metadata": {},
     "output_type": "execute_result"
    }
   ],
   "source": [
    "df_sorted.head(7)"
   ]
  },
  {
   "cell_type": "markdown",
   "metadata": {},
   "source": [
    "## Identification of the worst bridges"
   ]
  },
  {
   "cell_type": "code",
   "execution_count": 58,
   "metadata": {},
   "outputs": [
    {
     "data": {
      "text/plain": [
       "Daud Kandi Bridge            7\n",
       "MEGHNA BRIDGE                5\n",
       "KANCHPUR PC GIRDER BRIDGE    5\n",
       "ILLIOT BAZER                 2\n",
       "BAROCONDO BRIDGE             1\n",
       "Name: Worst bridge name, dtype: int64"
      ]
     },
     "execution_count": 58,
     "metadata": {},
     "output_type": "execute_result"
    }
   ],
   "source": [
    "df_sc1to7 = df.iloc[10:80]\n",
    "df_bridge_count = df_sc1to7[df_sc1to7[\"Worst bridge delay\"] != 0]\n",
    "df_bridge_count = df_bridge_count['Worst bridge name'].value_counts()\n",
    "df_bridge_count.head()"
   ]
  },
  {
   "cell_type": "code",
   "execution_count": 73,
   "metadata": {},
   "outputs": [
    {
     "data": {
      "image/png": "[encoded data removed]",
      "text/plain": [
       "<Figure size 432x288 with 1 Axes>"
      ]
     },
     "metadata": {
      "needs_background": "light"
     },
     "output_type": "display_data"
    }
   ],
   "source": [
    "# boxplot of the delay times of the bridges that broke down most often\n",
    "df_counts_top3 = df_sc1to7.loc[(df_sc1to7[\"Worst bridge name\"] == \"Daud Kandi Bridge\") |  (df_sc1to7[\"Worst bridge name\"] == \"MEGHNA BRIDGE\") | (df_sc1to7[\"Worst bridge name\"] == \"KANCHPUR PC GIRDER BRIDGE\")]\n",
    "ax = sns.boxplot(x=df_counts_top3[\"Worst bridge delay\"], \n",
    "                 y=df_counts_top3[\"Worst bridge name\"], \n",
    "                orient=\"h\", palette =\"pastel\")"
   ]
  },
  {
   "cell_type": "code",
   "execution_count": 77,
   "metadata": {},
   "outputs": [
    {
     "data": {
      "image/png": "[encoded data removed]",
      "text/plain": [
       "<Figure size 432x288 with 1 Axes>"
      ]
     },
     "metadata": {
      "needs_background": "light"
     },
     "output_type": "display_data"
    }
   ],
   "source": [
    "# the Illiot bridge had a significantly smaller delay time so it got its own boxplot\n",
    "\n",
    "df_illiot = df_sc1to7.loc[(df_sc1to7[\"Worst bridge name\"] == \"ILLIOT BAZER\")]\n",
    "ax = sns.boxplot(x=df_illiot[\"Worst bridge delay\"])                        "
   ]
  },
  {
   "cell_type": "code",
   "execution_count": 9,
   "metadata": {},
   "outputs": [],
   "source": [
    "# Identify the bridges that had the worst delay times when they broke down\n",
    "df_sorted = df.iloc[10:80].sort_values(by = \"Worst bridge delay\", ascending=False).drop_duplicates(subset = 'Worst bridge name')"
   ]
  },
  {
   "cell_type": "code",
   "execution_count": 10,
   "metadata": {},
   "outputs": [
    {
     "data": {
      "text/html": [
       "<div>\n",
       "<style scoped>\n",
       "    .dataframe tbody tr th:only-of-type {\n",
       "        vertical-align: middle;\n",
       "    }\n",
       "\n",
       "    .dataframe tbody tr th {\n",
       "        vertical-align: top;\n",
       "    }\n",
       "\n",
       "    .dataframe thead th {\n",
       "        text-align: right;\n",
       "    }\n",
       "</style>\n",
       "<table border=\"1\" class=\"dataframe\">\n",
       "  <thead>\n",
       "    <tr style=\"text-align: right;\">\n",
       "      <th></th>\n",
       "      <th>Unnamed: 0</th>\n",
       "      <th>prob_A</th>\n",
       "      <th>prob_D</th>\n",
       "      <th>prob_C</th>\n",
       "      <th>prob_B</th>\n",
       "      <th>Run</th>\n",
       "      <th>Average driving time</th>\n",
       "      <th>Probs</th>\n",
       "      <th>Worst bridge delay</th>\n",
       "      <th>Worst bridge name</th>\n",
       "    </tr>\n",
       "  </thead>\n",
       "  <tbody>\n",
       "    <tr>\n",
       "      <th>70</th>\n",
       "      <td>70</td>\n",
       "      <td>0.05</td>\n",
       "      <td>0.10</td>\n",
       "      <td>0.2</td>\n",
       "      <td>0.4</td>\n",
       "      <td>70</td>\n",
       "      <td>999.757258</td>\n",
       "      <td>{'A': 0.05, 'B': 0.1, 'C': 0.2, 'D': 0.4}</td>\n",
       "      <td>141.735009</td>\n",
       "      <td>MEGHNA BRIDGE</td>\n",
       "    </tr>\n",
       "    <tr>\n",
       "      <th>62</th>\n",
       "      <td>62</td>\n",
       "      <td>0.00</td>\n",
       "      <td>0.10</td>\n",
       "      <td>0.2</td>\n",
       "      <td>0.4</td>\n",
       "      <td>62</td>\n",
       "      <td>657.662586</td>\n",
       "      <td>{'A': 0, 'B': 0.1, 'C': 0.2, 'D': 0.4}</td>\n",
       "      <td>141.271634</td>\n",
       "      <td>KANCHPUR PC GIRDER BRIDGE</td>\n",
       "    </tr>\n",
       "    <tr>\n",
       "      <th>61</th>\n",
       "      <td>61</td>\n",
       "      <td>0.00</td>\n",
       "      <td>0.10</td>\n",
       "      <td>0.2</td>\n",
       "      <td>0.4</td>\n",
       "      <td>61</td>\n",
       "      <td>624.230769</td>\n",
       "      <td>{'A': 0, 'B': 0.1, 'C': 0.2, 'D': 0.4}</td>\n",
       "      <td>140.483121</td>\n",
       "      <td>Daud Kandi Bridge</td>\n",
       "    </tr>\n",
       "    <tr>\n",
       "      <th>68</th>\n",
       "      <td>68</td>\n",
       "      <td>0.00</td>\n",
       "      <td>0.10</td>\n",
       "      <td>0.2</td>\n",
       "      <td>0.4</td>\n",
       "      <td>68</td>\n",
       "      <td>480.749069</td>\n",
       "      <td>{'A': 0, 'B': 0.1, 'C': 0.2, 'D': 0.4}</td>\n",
       "      <td>138.217302</td>\n",
       "      <td>DHOOM GHAT PC GIRDER</td>\n",
       "    </tr>\n",
       "    <tr>\n",
       "      <th>50</th>\n",
       "      <td>50</td>\n",
       "      <td>0.00</td>\n",
       "      <td>0.05</td>\n",
       "      <td>0.1</td>\n",
       "      <td>0.2</td>\n",
       "      <td>50</td>\n",
       "      <td>426.426460</td>\n",
       "      <td>{'A': 0, 'B': 0.05, 'C': 0.1, 'D': 0.2}</td>\n",
       "      <td>38.428456</td>\n",
       "      <td>MUDDO SONAISORI BRIDGE</td>\n",
       "    </tr>\n",
       "  </tbody>\n",
       "</table>\n",
       "</div>"
      ],
      "text/plain": [
       "    Unnamed: 0  prob_A  prob_D  prob_C  prob_B  Run  Average driving time  \\\n",
       "70          70    0.05    0.10     0.2     0.4   70            999.757258   \n",
       "62          62    0.00    0.10     0.2     0.4   62            657.662586   \n",
       "61          61    0.00    0.10     0.2     0.4   61            624.230769   \n",
       "68          68    0.00    0.10     0.2     0.4   68            480.749069   \n",
       "50          50    0.00    0.05     0.1     0.2   50            426.426460   \n",
       "\n",
       "                                        Probs  Worst bridge delay  \\\n",
       "70  {'A': 0.05, 'B': 0.1, 'C': 0.2, 'D': 0.4}          141.735009   \n",
       "62     {'A': 0, 'B': 0.1, 'C': 0.2, 'D': 0.4}          141.271634   \n",
       "61     {'A': 0, 'B': 0.1, 'C': 0.2, 'D': 0.4}          140.483121   \n",
       "68     {'A': 0, 'B': 0.1, 'C': 0.2, 'D': 0.4}          138.217302   \n",
       "50    {'A': 0, 'B': 0.05, 'C': 0.1, 'D': 0.2}           38.428456   \n",
       "\n",
       "            Worst bridge name  \n",
       "70              MEGHNA BRIDGE  \n",
       "62  KANCHPUR PC GIRDER BRIDGE  \n",
       "61          Daud Kandi Bridge  \n",
       "68       DHOOM GHAT PC GIRDER  \n",
       "50     MUDDO SONAISORI BRIDGE  "
      ]
     },
     "execution_count": 10,
     "metadata": {},
     "output_type": "execute_result"
    }
   ],
   "source": [
    "# top 5 of these bridges\n",
    "df_sorted.head(5)"
   ]
  },
  {
   "cell_type": "markdown",
   "metadata": {},
   "source": [
    "## bar plot ave delay time of scenario"
   ]
  },
  {
   "cell_type": "code",
   "execution_count": 22,
   "metadata": {},
   "outputs": [
    {
     "data": {
      "text/html": [
       "<div>\n",
       "<style scoped>\n",
       "    .dataframe tbody tr th:only-of-type {\n",
       "        vertical-align: middle;\n",
       "    }\n",
       "\n",
       "    .dataframe tbody tr th {\n",
       "        vertical-align: top;\n",
       "    }\n",
       "\n",
       "    .dataframe thead th {\n",
       "        text-align: right;\n",
       "    }\n",
       "</style>\n",
       "<table border=\"1\" class=\"dataframe\">\n",
       "  <thead>\n",
       "    <tr style=\"text-align: right;\">\n",
       "      <th></th>\n",
       "      <th>Unnamed: 0</th>\n",
       "      <th>prob_A</th>\n",
       "      <th>prob_D</th>\n",
       "      <th>prob_C</th>\n",
       "      <th>prob_B</th>\n",
       "      <th>Run</th>\n",
       "      <th>Average driving time</th>\n",
       "      <th>Probs</th>\n",
       "      <th>Worst bridge delay</th>\n",
       "      <th>Worst bridge name</th>\n",
       "    </tr>\n",
       "  </thead>\n",
       "  <tbody>\n",
       "    <tr>\n",
       "      <th>0</th>\n",
       "      <td>0</td>\n",
       "      <td>0.0</td>\n",
       "      <td>0.0</td>\n",
       "      <td>0.0</td>\n",
       "      <td>0.0</td>\n",
       "      <td>0</td>\n",
       "      <td>299.0</td>\n",
       "      <td>{'A': 0, 'B': 0, 'C': 0, 'D': 0}</td>\n",
       "      <td>0.0</td>\n",
       "      <td>CORNAIL HAT BOX CULVERT</td>\n",
       "    </tr>\n",
       "    <tr>\n",
       "      <th>1</th>\n",
       "      <td>1</td>\n",
       "      <td>0.0</td>\n",
       "      <td>0.0</td>\n",
       "      <td>0.0</td>\n",
       "      <td>0.0</td>\n",
       "      <td>1</td>\n",
       "      <td>299.0</td>\n",
       "      <td>{'A': 0, 'B': 0, 'C': 0, 'D': 0}</td>\n",
       "      <td>0.0</td>\n",
       "      <td>CORNAIL HAT BOX CULVERT</td>\n",
       "    </tr>\n",
       "    <tr>\n",
       "      <th>2</th>\n",
       "      <td>2</td>\n",
       "      <td>0.0</td>\n",
       "      <td>0.0</td>\n",
       "      <td>0.0</td>\n",
       "      <td>0.0</td>\n",
       "      <td>2</td>\n",
       "      <td>299.0</td>\n",
       "      <td>{'A': 0, 'B': 0, 'C': 0, 'D': 0}</td>\n",
       "      <td>0.0</td>\n",
       "      <td>CORNAIL HAT BOX CULVERT</td>\n",
       "    </tr>\n",
       "    <tr>\n",
       "      <th>3</th>\n",
       "      <td>3</td>\n",
       "      <td>0.0</td>\n",
       "      <td>0.0</td>\n",
       "      <td>0.0</td>\n",
       "      <td>0.0</td>\n",
       "      <td>3</td>\n",
       "      <td>299.0</td>\n",
       "      <td>{'A': 0, 'B': 0, 'C': 0, 'D': 0}</td>\n",
       "      <td>0.0</td>\n",
       "      <td>CORNAIL HAT BOX CULVERT</td>\n",
       "    </tr>\n",
       "    <tr>\n",
       "      <th>4</th>\n",
       "      <td>4</td>\n",
       "      <td>0.0</td>\n",
       "      <td>0.0</td>\n",
       "      <td>0.0</td>\n",
       "      <td>0.0</td>\n",
       "      <td>4</td>\n",
       "      <td>299.0</td>\n",
       "      <td>{'A': 0, 'B': 0, 'C': 0, 'D': 0}</td>\n",
       "      <td>0.0</td>\n",
       "      <td>CORNAIL HAT BOX CULVERT</td>\n",
       "    </tr>\n",
       "  </tbody>\n",
       "</table>\n",
       "</div>"
      ],
      "text/plain": [
       "   Unnamed: 0  prob_A  prob_D  prob_C  prob_B  Run  Average driving time  \\\n",
       "0           0     0.0     0.0     0.0     0.0    0                 299.0   \n",
       "1           1     0.0     0.0     0.0     0.0    1                 299.0   \n",
       "2           2     0.0     0.0     0.0     0.0    2                 299.0   \n",
       "3           3     0.0     0.0     0.0     0.0    3                 299.0   \n",
       "4           4     0.0     0.0     0.0     0.0    4                 299.0   \n",
       "\n",
       "                              Probs  Worst bridge delay  \\\n",
       "0  {'A': 0, 'B': 0, 'C': 0, 'D': 0}                 0.0   \n",
       "1  {'A': 0, 'B': 0, 'C': 0, 'D': 0}                 0.0   \n",
       "2  {'A': 0, 'B': 0, 'C': 0, 'D': 0}                 0.0   \n",
       "3  {'A': 0, 'B': 0, 'C': 0, 'D': 0}                 0.0   \n",
       "4  {'A': 0, 'B': 0, 'C': 0, 'D': 0}                 0.0   \n",
       "\n",
       "         Worst bridge name  \n",
       "0  CORNAIL HAT BOX CULVERT  \n",
       "1  CORNAIL HAT BOX CULVERT  \n",
       "2  CORNAIL HAT BOX CULVERT  \n",
       "3  CORNAIL HAT BOX CULVERT  \n",
       "4  CORNAIL HAT BOX CULVERT  "
      ]
     },
     "execution_count": 22,
     "metadata": {},
     "output_type": "execute_result"
    }
   ],
   "source": [
    "df.head()"
   ]
  },
  {
   "cell_type": "code",
   "execution_count": 12,
   "metadata": {},
   "outputs": [
    {
     "data": {
      "text/html": [
       "<div>\n",
       "<style scoped>\n",
       "    .dataframe tbody tr th:only-of-type {\n",
       "        vertical-align: middle;\n",
       "    }\n",
       "\n",
       "    .dataframe tbody tr th {\n",
       "        vertical-align: top;\n",
       "    }\n",
       "\n",
       "    .dataframe thead th {\n",
       "        text-align: right;\n",
       "    }\n",
       "</style>\n",
       "<table border=\"1\" class=\"dataframe\">\n",
       "  <thead>\n",
       "    <tr style=\"text-align: right;\">\n",
       "      <th></th>\n",
       "      <th>Scenario</th>\n",
       "      <th>Variable</th>\n",
       "      <th>Time</th>\n",
       "    </tr>\n",
       "  </thead>\n",
       "  <tbody>\n",
       "  </tbody>\n",
       "</table>\n",
       "</div>"
      ],
      "text/plain": [
       "Empty DataFrame\n",
       "Columns: [Scenario, Variable, Time]\n",
       "Index: []"
      ]
     },
     "execution_count": 12,
     "metadata": {},
     "output_type": "execute_result"
    }
   ],
   "source": [
    "dfBar = pd.DataFrame(columns = [\"Scenario\", \"Variable\", \"Time\"])\n",
    "dfBar"
   ]
  },
  {
   "cell_type": "code",
   "execution_count": 13,
   "metadata": {},
   "outputs": [
    {
     "data": {
      "text/html": [
       "<div>\n",
       "<style scoped>\n",
       "    .dataframe tbody tr th:only-of-type {\n",
       "        vertical-align: middle;\n",
       "    }\n",
       "\n",
       "    .dataframe tbody tr th {\n",
       "        vertical-align: top;\n",
       "    }\n",
       "\n",
       "    .dataframe thead th {\n",
       "        text-align: right;\n",
       "    }\n",
       "</style>\n",
       "<table border=\"1\" class=\"dataframe\">\n",
       "  <thead>\n",
       "    <tr style=\"text-align: right;\">\n",
       "      <th></th>\n",
       "      <th>Scenario</th>\n",
       "      <th>Variable</th>\n",
       "      <th>Time</th>\n",
       "    </tr>\n",
       "  </thead>\n",
       "  <tbody>\n",
       "    <tr>\n",
       "      <th>0</th>\n",
       "      <td>0</td>\n",
       "      <td>Average driving time</td>\n",
       "      <td>299.0</td>\n",
       "    </tr>\n",
       "    <tr>\n",
       "      <th>0</th>\n",
       "      <td>0</td>\n",
       "      <td>Max Delay of worst run</td>\n",
       "      <td>0.0</td>\n",
       "    </tr>\n",
       "    <tr>\n",
       "      <th>0</th>\n",
       "      <td>0</td>\n",
       "      <td>Max Delay of best run</td>\n",
       "      <td>0.0</td>\n",
       "    </tr>\n",
       "    <tr>\n",
       "      <th>0</th>\n",
       "      <td>1</td>\n",
       "      <td>Average driving time</td>\n",
       "      <td>299.0</td>\n",
       "    </tr>\n",
       "    <tr>\n",
       "      <th>0</th>\n",
       "      <td>1</td>\n",
       "      <td>Max Delay of worst run</td>\n",
       "      <td>0.0</td>\n",
       "    </tr>\n",
       "  </tbody>\n",
       "</table>\n",
       "</div>"
      ],
      "text/plain": [
       "  Scenario                Variable   Time\n",
       "0        0    Average driving time  299.0\n",
       "0        0  Max Delay of worst run    0.0\n",
       "0        0   Max Delay of best run    0.0\n",
       "0        1    Average driving time  299.0\n",
       "0        1  Max Delay of worst run    0.0"
      ]
     },
     "execution_count": 13,
     "metadata": {},
     "output_type": "execute_result"
    }
   ],
   "source": [
    "xlist = [0,10,20,30,40,50,60,70,80]\n",
    "\n",
    "for x in xlist:\n",
    "    scenario = xlist.index(x)\n",
    "    ave = df.iloc[x:(x+10)][\"Average driving time\"].mean()\n",
    "    maxx = df.iloc[x:(x+10)][\"Worst bridge delay\"].max()\n",
    "    minn = df.iloc[x:(x+10)][\"Worst bridge delay\"].min()\n",
    "    dfAve = pd.DataFrame([[scenario,\"Average driving time\", ave]], columns = [\"Scenario\", \"Variable\", \"Time\"])\n",
    "    dfMaxx = pd.DataFrame([[scenario,\"Max Delay of worst run\", maxx]], columns = [\"Scenario\", \"Variable\", \"Time\"])\n",
    "    dfMinn = pd.DataFrame([[scenario,\"Max Delay of best run\", minn]], columns = [\"Scenario\", \"Variable\", \"Time\"])\n",
    "    \n",
    "    dfBar = dfBar.append(dfAve)\n",
    "    dfBar = dfBar.append(dfMaxx)\n",
    "    dfBar = dfBar.append(dfMinn)\n",
    "dfBar.head()"
   ]
  },
  {
   "cell_type": "code",
   "execution_count": 14,
   "metadata": {},
   "outputs": [
    {
     "data": {
      "text/plain": [
       "(27, 3)"
      ]
     },
     "execution_count": 14,
     "metadata": {},
     "output_type": "execute_result"
    }
   ],
   "source": [
    "dfBar.shape"
   ]
  },
  {
   "cell_type": "code",
   "execution_count": 15,
   "metadata": {},
   "outputs": [
    {
     "data": {
      "text/plain": [
       "<matplotlib.axes._subplots.AxesSubplot at 0x26af9758520>"
      ]
     },
     "execution_count": 15,
     "metadata": {},
     "output_type": "execute_result"
    },
    {
     "data": {
      "image/png": "[encoded data removed]",
      "text/plain": [
       "<Figure size 432x288 with 1 Axes>"
      ]
     },
     "metadata": {
      "needs_background": "light"
     },
     "output_type": "display_data"
    }
   ],
   "source": [
    "sns.barplot(x='Scenario', y='Time', hue='Variable', data=dfBar, palette = 'pastel')"
   ]
  },
  {
   "cell_type": "code",
   "execution_count": 16,
   "metadata": {},
   "outputs": [
    {
     "data": {
      "text/plain": [
       "<seaborn.axisgrid.FacetGrid at 0x26af987bd60>"
      ]
     },
     "execution_count": 16,
     "metadata": {},
     "output_type": "execute_result"
    },
    {
     "data": {
      "image/png": "[encoded data removed]",
      "text/plain": [
       "<Figure size 432x432 with 1 Axes>"
      ]
     },
     "metadata": {
      "needs_background": "light"
     },
     "output_type": "display_data"
    }
   ],
   "source": [
    "g = sns.catplot(\n",
    "    data=df, kind=\"bar\",\n",
    "    x=\"Probs\", y=\"Average driving time\", ci=\"sd\", palette=\"pastel\", alpha=.6, height=6)\n",
    "g.despine(left=True)\n",
    "g.set_axis_labels(\"Scenarios\", \"Average driving time\")\n",
    "#g.set_xticks(range(9))\n",
    "g.set_xticklabels([0,1,2,3,4,5,6,7,8])"
   ]
  },
  {
   "cell_type": "code",
   "execution_count": 41,
   "metadata": {},
   "outputs": [],
   "source": []
  },
  {
   "cell_type": "code",
   "execution_count": 45,
   "metadata": {},
   "outputs": [
    {
     "data": {
      "text/plain": [
       "<seaborn.axisgrid.FacetGrid at 0x26afc7e4430>"
      ]
     },
     "execution_count": 45,
     "metadata": {},
     "output_type": "execute_result"
    },
    {
     "data": {
      "image/png": "[encoded data removed]",
      "text/plain": [
       "<Figure size 432x432 with 1 Axes>"
      ]
     },
     "metadata": {
      "needs_background": "light"
     },
     "output_type": "display_data"
    }
   ],
   "source": [
    "g = sns.catplot(\n",
    "    data = df, kind = \"bar\",\n",
    "    x = \"Run\", y = \"Average driving time\", palette = \"pastel\", alpha = .6, height = 6\n",
    ")\n",
    "g.despine(left=True)\n",
    "g.set_axis_labels(\"Run\", \"Average driving time\")"
   ]
  },
  {
   "cell_type": "code",
   "execution_count": 17,
   "metadata": {},
   "outputs": [
    {
     "data": {
      "text/plain": [
       "<matplotlib.axes._subplots.AxesSubplot at 0x26af996ab50>"
      ]
     },
     "execution_count": 17,
     "metadata": {},
     "output_type": "execute_result"
    },
    {
     "data": {
      "image/png": "[encoded data removed]",
      "text/plain": [
       "<Figure size 432x432 with 1 Axes>"
      ]
     },
     "metadata": {
      "needs_background": "light"
     },
     "output_type": "display_data"
    }
   ],
   "source": [
    "g = sns.catplot(\n",
    "    data=df.tail(10), kind=\"bar\",\n",
    "    x=\"Run\", y=\"Average driving time\", ci=\"sd\", palette=\"pastel\", alpha=.6, height=6)\n",
    "g.despine(left=True)\n",
    "g.set_axis_labels(\"Run\", \"Average driving time\")\n",
    "sns.lineplot(x = [-1,10], y=299, palette = 'pastel')"
   ]
  },
  {
   "cell_type": "code",
   "execution_count": 18,
   "metadata": {},
   "outputs": [
    {
     "data": {
      "text/html": [
       "<div>\n",
       "<style scoped>\n",
       "    .dataframe tbody tr th:only-of-type {\n",
       "        vertical-align: middle;\n",
       "    }\n",
       "\n",
       "    .dataframe tbody tr th {\n",
       "        vertical-align: top;\n",
       "    }\n",
       "\n",
       "    .dataframe thead th {\n",
       "        text-align: right;\n",
       "    }\n",
       "</style>\n",
       "<table border=\"1\" class=\"dataframe\">\n",
       "  <thead>\n",
       "    <tr style=\"text-align: right;\">\n",
       "      <th></th>\n",
       "      <th>Scenario</th>\n",
       "      <th>Variable</th>\n",
       "      <th>Time</th>\n",
       "    </tr>\n",
       "  </thead>\n",
       "  <tbody>\n",
       "    <tr>\n",
       "      <th>0</th>\n",
       "      <td>0</td>\n",
       "      <td>Average driving time</td>\n",
       "      <td>299.000000</td>\n",
       "    </tr>\n",
       "    <tr>\n",
       "      <th>0</th>\n",
       "      <td>0</td>\n",
       "      <td>Max Delay of worst run</td>\n",
       "      <td>0.000000</td>\n",
       "    </tr>\n",
       "    <tr>\n",
       "      <th>0</th>\n",
       "      <td>0</td>\n",
       "      <td>Max Delay of best run</td>\n",
       "      <td>0.000000</td>\n",
       "    </tr>\n",
       "    <tr>\n",
       "      <th>0</th>\n",
       "      <td>1</td>\n",
       "      <td>Average driving time</td>\n",
       "      <td>299.000000</td>\n",
       "    </tr>\n",
       "    <tr>\n",
       "      <th>0</th>\n",
       "      <td>1</td>\n",
       "      <td>Max Delay of worst run</td>\n",
       "      <td>0.000000</td>\n",
       "    </tr>\n",
       "    <tr>\n",
       "      <th>0</th>\n",
       "      <td>1</td>\n",
       "      <td>Max Delay of best run</td>\n",
       "      <td>0.000000</td>\n",
       "    </tr>\n",
       "    <tr>\n",
       "      <th>0</th>\n",
       "      <td>2</td>\n",
       "      <td>Average driving time</td>\n",
       "      <td>299.000000</td>\n",
       "    </tr>\n",
       "    <tr>\n",
       "      <th>0</th>\n",
       "      <td>2</td>\n",
       "      <td>Max Delay of worst run</td>\n",
       "      <td>0.000000</td>\n",
       "    </tr>\n",
       "    <tr>\n",
       "      <th>0</th>\n",
       "      <td>2</td>\n",
       "      <td>Max Delay of best run</td>\n",
       "      <td>0.000000</td>\n",
       "    </tr>\n",
       "    <tr>\n",
       "      <th>0</th>\n",
       "      <td>3</td>\n",
       "      <td>Average driving time</td>\n",
       "      <td>311.524605</td>\n",
       "    </tr>\n",
       "  </tbody>\n",
       "</table>\n",
       "</div>"
      ],
      "text/plain": [
       "  Scenario                Variable        Time\n",
       "0        0    Average driving time  299.000000\n",
       "0        0  Max Delay of worst run    0.000000\n",
       "0        0   Max Delay of best run    0.000000\n",
       "0        1    Average driving time  299.000000\n",
       "0        1  Max Delay of worst run    0.000000\n",
       "0        1   Max Delay of best run    0.000000\n",
       "0        2    Average driving time  299.000000\n",
       "0        2  Max Delay of worst run    0.000000\n",
       "0        2   Max Delay of best run    0.000000\n",
       "0        3    Average driving time  311.524605"
      ]
     },
     "execution_count": 18,
     "metadata": {},
     "output_type": "execute_result"
    }
   ],
   "source": [
    "dfBar.head(10)"
   ]
  },
  {
   "cell_type": "code",
   "execution_count": 19,
   "metadata": {},
   "outputs": [
    {
     "data": {
      "text/html": [
       "<div>\n",
       "<style scoped>\n",
       "    .dataframe tbody tr th:only-of-type {\n",
       "        vertical-align: middle;\n",
       "    }\n",
       "\n",
       "    .dataframe tbody tr th {\n",
       "        vertical-align: top;\n",
       "    }\n",
       "\n",
       "    .dataframe thead th {\n",
       "        text-align: right;\n",
       "    }\n",
       "</style>\n",
       "<table border=\"1\" class=\"dataframe\">\n",
       "  <thead>\n",
       "    <tr style=\"text-align: right;\">\n",
       "      <th></th>\n",
       "      <th>Scenario</th>\n",
       "      <th>Variable</th>\n",
       "      <th>Time</th>\n",
       "    </tr>\n",
       "  </thead>\n",
       "  <tbody>\n",
       "    <tr>\n",
       "      <th>0</th>\n",
       "      <td>0</td>\n",
       "      <td>Max Delay of worst run</td>\n",
       "      <td>0.000000</td>\n",
       "    </tr>\n",
       "    <tr>\n",
       "      <th>0</th>\n",
       "      <td>0</td>\n",
       "      <td>Max Delay of best run</td>\n",
       "      <td>0.000000</td>\n",
       "    </tr>\n",
       "    <tr>\n",
       "      <th>0</th>\n",
       "      <td>1</td>\n",
       "      <td>Max Delay of worst run</td>\n",
       "      <td>0.000000</td>\n",
       "    </tr>\n",
       "    <tr>\n",
       "      <th>0</th>\n",
       "      <td>1</td>\n",
       "      <td>Max Delay of best run</td>\n",
       "      <td>0.000000</td>\n",
       "    </tr>\n",
       "    <tr>\n",
       "      <th>0</th>\n",
       "      <td>2</td>\n",
       "      <td>Max Delay of worst run</td>\n",
       "      <td>0.000000</td>\n",
       "    </tr>\n",
       "    <tr>\n",
       "      <th>0</th>\n",
       "      <td>2</td>\n",
       "      <td>Max Delay of best run</td>\n",
       "      <td>0.000000</td>\n",
       "    </tr>\n",
       "    <tr>\n",
       "      <th>0</th>\n",
       "      <td>3</td>\n",
       "      <td>Max Delay of worst run</td>\n",
       "      <td>37.658861</td>\n",
       "    </tr>\n",
       "    <tr>\n",
       "      <th>0</th>\n",
       "      <td>3</td>\n",
       "      <td>Max Delay of best run</td>\n",
       "      <td>0.000000</td>\n",
       "    </tr>\n",
       "    <tr>\n",
       "      <th>0</th>\n",
       "      <td>4</td>\n",
       "      <td>Max Delay of worst run</td>\n",
       "      <td>140.374862</td>\n",
       "    </tr>\n",
       "    <tr>\n",
       "      <th>0</th>\n",
       "      <td>4</td>\n",
       "      <td>Max Delay of best run</td>\n",
       "      <td>0.000000</td>\n",
       "    </tr>\n",
       "  </tbody>\n",
       "</table>\n",
       "</div>"
      ],
      "text/plain": [
       "  Scenario                Variable        Time\n",
       "0        0  Max Delay of worst run    0.000000\n",
       "0        0   Max Delay of best run    0.000000\n",
       "0        1  Max Delay of worst run    0.000000\n",
       "0        1   Max Delay of best run    0.000000\n",
       "0        2  Max Delay of worst run    0.000000\n",
       "0        2   Max Delay of best run    0.000000\n",
       "0        3  Max Delay of worst run   37.658861\n",
       "0        3   Max Delay of best run    0.000000\n",
       "0        4  Max Delay of worst run  140.374862\n",
       "0        4   Max Delay of best run    0.000000"
      ]
     },
     "execution_count": 19,
     "metadata": {},
     "output_type": "execute_result"
    }
   ],
   "source": [
    "dfNew = dfBar[dfBar[\"Variable\"] != \"Average driving time\"]\n",
    "dfNew.head(10)"
   ]
  },
  {
   "cell_type": "code",
   "execution_count": 20,
   "metadata": {},
   "outputs": [
    {
     "data": {
      "text/plain": [
       "<matplotlib.axes._subplots.AxesSubplot at 0x26af9a0e760>"
      ]
     },
     "execution_count": 20,
     "metadata": {},
     "output_type": "execute_result"
    },
    {
     "data": {
      "image/png": "[encoded data removed]",
      "text/plain": [
       "<Figure size 432x288 with 1 Axes>"
      ]
     },
     "metadata": {
      "needs_background": "light"
     },
     "output_type": "display_data"
    }
   ],
   "source": [
    "sns.barplot(x='Scenario', y='Time', hue='Variable', data=dfNew, palette = 'pastel', color = \"\")"
   ]
  },
  {
   "cell_type": "markdown",
   "metadata": {},
   "source": [
    "### Check manually"
   ]
  },
  {
   "cell_type": "code",
   "execution_count": null,
   "metadata": {},
   "outputs": [],
   "source": [
    "print(\"The 0 scenario has an average driving time of:\")\n",
    "ave0 = df.iloc[0:10][\"Average driving time\"].mean()\n",
    "max0 = df.iloc[0:10][\"Worst bridge delay\"].max()\n",
    "min0 = df.iloc[0:10][\"Worst bridge delay\"].min()\n",
    "print(ave0)\n",
    "print(max0)\n",
    "print(min0)"
   ]
  },
  {
   "cell_type": "code",
   "execution_count": null,
   "metadata": {},
   "outputs": [],
   "source": [
    "print(\"The first scenario has an average driving time of:\")\n",
    "ave1 = df.iloc[10:20][\"Average driving time\"].mean()\n",
    "max1 = df.iloc[10:20][\"Worst bridge delay\"].max()\n",
    "min1 = df.iloc[10:20][\"Worst bridge delay\"].min()\n",
    "print(ave1)\n",
    "print(max1)\n",
    "print(min1)"
   ]
  },
  {
   "cell_type": "code",
   "execution_count": null,
   "metadata": {},
   "outputs": [],
   "source": [
    "print(\"The second scenario has an average driving time of:\")\n",
    "ave2 = df.iloc[20:30][\"Average driving time\"].mean()\n",
    "max2 = df.iloc[20:30][\"Worst bridge delay\"].max()\n",
    "min2 = df.iloc[20:30][\"Worst bridge delay\"].min()\n",
    "print(ave2)\n",
    "print(max2)\n",
    "print(min2)"
   ]
  },
  {
   "cell_type": "code",
   "execution_count": null,
   "metadata": {},
   "outputs": [],
   "source": [
    "print(\"The third scenario has an average driving time of:\")\n",
    "ave3 = df.iloc[30:40][\"Average driving time\"].mean()\n",
    "max3 = df.iloc[30:40][\"Worst bridge delay\"].max()\n",
    "min3 = df.iloc[30:40][\"Worst bridge delay\"].min()\n",
    "print(ave3)\n",
    "print(max3)\n",
    "print(min3)"
   ]
  },
  {
   "cell_type": "code",
   "execution_count": null,
   "metadata": {},
   "outputs": [],
   "source": [
    "print(\"The fourth scenario has an average driving time of:\")\n",
    "ave4 = df.iloc[40:50][\"Average driving time\"].mean()\n",
    "max4 = df.iloc[40:50][\"Worst bridge delay\"].max()\n",
    "min4 = df.iloc[40:50][\"Worst bridge delay\"].min()\n",
    "print(ave4)\n",
    "print(max4)\n",
    "print(min4)"
   ]
  },
  {
   "cell_type": "code",
   "execution_count": null,
   "metadata": {},
   "outputs": [],
   "source": [
    "print(\"The fifth scenario has an average driving time of:\")\n",
    "ave5 = df.iloc[50:60][\"Average driving time\"].mean()\n",
    "max5 = df.iloc[50:60][\"Worst bridge delay\"].max()\n",
    "min5 = df.iloc[50:60][\"Worst bridge delay\"].min()\n",
    "print(ave5)\n",
    "print(max5)\n",
    "print(min5)"
   ]
  },
  {
   "cell_type": "code",
   "execution_count": null,
   "metadata": {},
   "outputs": [],
   "source": [
    "print(\"The sixth scenario has an average driving time of:\")\n",
    "ave6 = df.iloc[60:70][\"Average driving time\"].mean()\n",
    "max6 = df.iloc[60:70][\"Worst bridge delay\"].max()\n",
    "min6 = df.iloc[60:70][\"Worst bridge delay\"].min()\n",
    "print(ave6)\n",
    "print(max6)\n",
    "print(min6)"
   ]
  },
  {
   "cell_type": "code",
   "execution_count": null,
   "metadata": {},
   "outputs": [],
   "source": [
    "print(\"The seventh scenario has an average driving time of:\")\n",
    "ave7 = df.iloc[70:80][\"Average driving time\"].mean()\n",
    "max7 = df.iloc[70:80][\"Worst bridge delay\"].max()\n",
    "min7 = df.iloc[70:80][\"Worst bridge delay\"].min()\n",
    "print(ave7)\n",
    "print(max7)\n",
    "print(min7)"
   ]
  },
  {
   "cell_type": "code",
   "execution_count": null,
   "metadata": {},
   "outputs": [],
   "source": [
    "print(\"The eighth scenario has an average driving time of:\")\n",
    "ave8 = df.iloc[80:90][\"Average driving time\"].mean()\n",
    "max8 = df.iloc[80:90][\"Worst bridge delay\"].max()\n",
    "min8 = df.iloc[80:90][\"Worst bridge delay\"].min()\n",
    "print(ave8)\n",
    "print(max8)\n",
    "print(min8)"
   ]
  }
 ],
 "metadata": {
  "kernelspec": {
   "display_name": "Python 3",
   "language": "python",
   "name": "python3"
  },
  "language_info": {
   "codemirror_mode": {
    "name": "ipython",
    "version": 3
   },
   "file_extension": ".py",
   "mimetype": "text/x-python",
   "name": "python",
   "nbconvert_exporter": "python",
   "pygments_lexer": "ipython3",
   "version": "3.8.3"
  }
 },
 "nbformat": 4,
 "nbformat_minor": 4
}
