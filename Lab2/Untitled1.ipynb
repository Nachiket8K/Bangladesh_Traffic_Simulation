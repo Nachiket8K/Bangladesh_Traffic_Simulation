{
 "cells": [
  {
   "cell_type": "code",
   "execution_count": 18,
   "id": "5b677c0e-c246-4adb-ba16-5c14fc35bc79",
   "metadata": {},
   "outputs": [
    {
     "ename": "NameError",
     "evalue": "name 'teacher' is not defined",
     "output_type": "error",
     "traceback": [
      "\u001b[1;31m---------------------------------------------------------------------------\u001b[0m",
      "\u001b[1;31mNameError\u001b[0m                                 Traceback (most recent call last)",
      "Input \u001b[1;32mIn [18]\u001b[0m, in \u001b[0;36m<cell line: 49>\u001b[1;34m()\u001b[0m\n\u001b[0;32m     49\u001b[0m \u001b[38;5;28;01mfor\u001b[39;00m i \u001b[38;5;129;01min\u001b[39;00m \u001b[38;5;28mrange\u001b[39m(\u001b[38;5;241m30\u001b[39m):\n\u001b[0;32m     50\u001b[0m     model\u001b[38;5;241m.\u001b[39mstep()\n\u001b[1;32m---> 51\u001b[0m     \u001b[43mmodel\u001b[49m\u001b[38;5;241;43m.\u001b[39;49m\u001b[43mexam\u001b[49m\u001b[43m(\u001b[49m\u001b[43m)\u001b[49m\n",
      "Input \u001b[1;32mIn [18]\u001b[0m, in \u001b[0;36mEPA1352Model.exam\u001b[1;34m(self)\u001b[0m\n\u001b[0;32m     41\u001b[0m \u001b[38;5;28;01mdef\u001b[39;00m \u001b[38;5;21mexam\u001b[39m(\u001b[38;5;28mself\u001b[39m):\n\u001b[1;32m---> 42\u001b[0m     EPA1352Teacher\u001b[38;5;241m.\u001b[39mspeak(\u001b[43mteacher\u001b[49m)\n\u001b[0;32m     43\u001b[0m     \u001b[38;5;28;01mfor\u001b[39;00m i \u001b[38;5;129;01min\u001b[39;00m \u001b[38;5;28mrange\u001b[39m (\u001b[38;5;241m2\u001b[39m,num_students):\n\u001b[0;32m     44\u001b[0m         \u001b[38;5;28;01mif\u001b[39;00m student(i)\u001b[38;5;241m.\u001b[39mgrade\u001b[38;5;241m==\u001b[39m\u001b[38;5;241m30\u001b[39m:\n",
      "\u001b[1;31mNameError\u001b[0m: name 'teacher' is not defined"
     ]
    }
   ],
   "source": [
    "from mesa import Agent, Model\n",
    "from mesa.time import RandomActivation\n",
    "\n",
    "class EPA1352Student(Agent):\n",
    "    def __init__(self, unique_id, model):\n",
    "        super().__init__(unique_id, model)\n",
    "        self.grade = 0\n",
    "    \n",
    "    def step(self):\n",
    "        self.grade += 1\n",
    "    def speak(self):\n",
    "        print('My grade is a pass')\n",
    "        \n",
    "class EPA1352Teacher(Agent):\n",
    "    def __init__(self,unique_id,model):\n",
    "        super().__init__(unique_id,model)\n",
    "        \n",
    "    def step(self):\n",
    "        pass\n",
    "    def speak(self):\n",
    "        print('Who has passed?')\n",
    "        \n",
    "\n",
    "class EPA1352Model(Model):\n",
    "    def __init__(self, num_students):\n",
    "        self.num_students = num_students\n",
    "        self.schedule = BaseScheduler(self)\n",
    "        self.create_model(num_students)\n",
    "    \n",
    "    def step(self) ->None:\n",
    "        self.schedule.step()\n",
    "        \n",
    "    def create_model(self,num_students):\n",
    "        teacher = EPA1352Teacher(1,self)\n",
    "        self.schedule.add(teacher)\n",
    "        \n",
    "        for i in range(2,num_students):\n",
    "            student = EPA1352Student(i, self)\n",
    "            self.schedule.add(student)\n",
    "        \n",
    "    def exam(self):\n",
    "        EPA1352Teacher.speak(teacher)\n",
    "        for i in range (2,num_students):\n",
    "            if student(i).grade==30:\n",
    "                student(i).speak()\n",
    "            \n",
    "\n",
    "model = EPA1352Model(80)\n",
    "for i in range(30):\n",
    "    model.step()\n",
    "    model.exam()\n"
   ]
  },
  {
   "cell_type": "code",
   "execution_count": null,
   "id": "354616f3-f546-44cf-8e75-9c2684bc2be8",
   "metadata": {},
   "outputs": [],
   "source": []
  }
 ],
 "metadata": {
  "kernelspec": {
   "display_name": "Python 3 (ipykernel)",
   "language": "python",
   "name": "python3"
  },
  "language_info": {
   "codemirror_mode": {
    "name": "ipython",
    "version": 3
   },
   "file_extension": ".py",
   "mimetype": "text/x-python",
   "name": "python",
   "nbconvert_exporter": "python",
   "pygments_lexer": "ipython3",
   "version": "3.9.15"
  }
 },
 "nbformat": 4,
 "nbformat_minor": 5
}
