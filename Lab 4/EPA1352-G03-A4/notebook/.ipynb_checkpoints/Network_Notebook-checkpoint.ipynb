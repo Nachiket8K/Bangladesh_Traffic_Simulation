{
 "cells": [
  {
   "cell_type": "code",
   "execution_count": 63,
   "metadata": {},
   "outputs": [],
   "source": [
    "import networkx as nx\n",
    "import pandas as pd\n",
    "import matplotlib.pyplot as plt"
   ]
  },
  {
   "cell_type": "code",
   "execution_count": 64,
   "metadata": {},
   "outputs": [],
   "source": [
    "G = nx.Graph()\n",
    "\n",
    "df = pd.read_csv(\"../data/processed/N1_N2_plus_sideroads.csv\")"
   ]
  },
  {
   "cell_type": "code",
   "execution_count": 65,
   "metadata": {},
   "outputs": [],
   "source": [
    "for i in range(len(df)):\n",
    "    G.add_node(df['id'][i], road=df['road'][i], length=df['length'][i],pos = [df['lon'][i],df['lat'][i]])"
   ]
  },
  {
   "cell_type": "code",
   "execution_count": 66,
   "metadata": {},
   "outputs": [
    {
     "data": {
      "text/html": [
       "<div>\n",
       "<style scoped>\n",
       "    .dataframe tbody tr th:only-of-type {\n",
       "        vertical-align: middle;\n",
       "    }\n",
       "\n",
       "    .dataframe tbody tr th {\n",
       "        vertical-align: top;\n",
       "    }\n",
       "\n",
       "    .dataframe thead th {\n",
       "        text-align: right;\n",
       "    }\n",
       "</style>\n",
       "<table border=\"1\" class=\"dataframe\">\n",
       "  <thead>\n",
       "    <tr style=\"text-align: right;\">\n",
       "      <th></th>\n",
       "      <th>index</th>\n",
       "      <th>road</th>\n",
       "      <th>id</th>\n",
       "      <th>model_type</th>\n",
       "      <th>condition</th>\n",
       "      <th>name</th>\n",
       "      <th>lat</th>\n",
       "      <th>lon</th>\n",
       "      <th>length</th>\n",
       "      <th>bridge_name</th>\n",
       "    </tr>\n",
       "  </thead>\n",
       "  <tbody>\n",
       "    <tr>\n",
       "      <th>0</th>\n",
       "      <td>132</td>\n",
       "      <td>N1</td>\n",
       "      <td>1000133</td>\n",
       "      <td>intersection</td>\n",
       "      <td>NaN</td>\n",
       "      <td>NaN</td>\n",
       "      <td>23.530805</td>\n",
       "      <td>90.781110</td>\n",
       "      <td>815.0</td>\n",
       "      <td>NaN</td>\n",
       "    </tr>\n",
       "    <tr>\n",
       "      <th>1</th>\n",
       "      <td>156</td>\n",
       "      <td>N1</td>\n",
       "      <td>1000157</td>\n",
       "      <td>intersection</td>\n",
       "      <td>NaN</td>\n",
       "      <td>NaN</td>\n",
       "      <td>23.513111</td>\n",
       "      <td>90.870638</td>\n",
       "      <td>42.0</td>\n",
       "      <td>NaN</td>\n",
       "    </tr>\n",
       "    <tr>\n",
       "      <th>2</th>\n",
       "      <td>157</td>\n",
       "      <td>N1</td>\n",
       "      <td>1000158</td>\n",
       "      <td>intersection</td>\n",
       "      <td>NaN</td>\n",
       "      <td>NaN</td>\n",
       "      <td>23.512667</td>\n",
       "      <td>90.871416</td>\n",
       "      <td>102.0</td>\n",
       "      <td>NaN</td>\n",
       "    </tr>\n",
       "    <tr>\n",
       "      <th>3</th>\n",
       "      <td>208</td>\n",
       "      <td>N1</td>\n",
       "      <td>1000209</td>\n",
       "      <td>intersection</td>\n",
       "      <td>NaN</td>\n",
       "      <td>NaN</td>\n",
       "      <td>23.478972</td>\n",
       "      <td>91.117999</td>\n",
       "      <td>28.0</td>\n",
       "      <td>NaN</td>\n",
       "    </tr>\n",
       "    <tr>\n",
       "      <th>4</th>\n",
       "      <td>209</td>\n",
       "      <td>N1</td>\n",
       "      <td>1000210</td>\n",
       "      <td>intersection</td>\n",
       "      <td>NaN</td>\n",
       "      <td>NaN</td>\n",
       "      <td>23.478972</td>\n",
       "      <td>91.118166</td>\n",
       "      <td>17.0</td>\n",
       "      <td>NaN</td>\n",
       "    </tr>\n",
       "  </tbody>\n",
       "</table>\n",
       "</div>"
      ],
      "text/plain": [
       "   index road       id    model_type condition name        lat        lon  \\\n",
       "0    132   N1  1000133  intersection       NaN  NaN  23.530805  90.781110   \n",
       "1    156   N1  1000157  intersection       NaN  NaN  23.513111  90.870638   \n",
       "2    157   N1  1000158  intersection       NaN  NaN  23.512667  90.871416   \n",
       "3    208   N1  1000209  intersection       NaN  NaN  23.478972  91.117999   \n",
       "4    209   N1  1000210  intersection       NaN  NaN  23.478972  91.118166   \n",
       "\n",
       "   length bridge_name  \n",
       "0   815.0         NaN  \n",
       "1    42.0         NaN  \n",
       "2   102.0         NaN  \n",
       "3    28.0         NaN  \n",
       "4    17.0         NaN  "
      ]
     },
     "execution_count": 66,
     "metadata": {},
     "output_type": "execute_result"
    }
   ],
   "source": [
    "intersections = df.loc[df['model_type'] == \"intersection\"]\n",
    "intersections = intersections.reset_index()\n",
    "intersections.head()"
   ]
  },
  {
   "cell_type": "code",
   "execution_count": 67,
   "metadata": {},
   "outputs": [],
   "source": [
    "previousnode = -1\n",
    "for i,row in df.iterrows():\n",
    "    if previousnode != -1:\n",
    "        if row['road'] == df.iloc[previousnode,0]:\n",
    "            G.add_edge(df.iloc[previousnode,1], row['id'], weight=row['length'])\n",
    "    previousnode = i"
   ]
  },
  {
   "cell_type": "code",
   "execution_count": 68,
   "metadata": {},
   "outputs": [],
   "source": [
    "pos = nx.get_node_attributes(G,'pos')"
   ]
  },
  {
   "cell_type": "code",
   "execution_count": 69,
   "metadata": {},
   "outputs": [
    {
     "data": {
      "image/png": "[encoded data removed]",
      "text/plain": [
       "<Figure size 432x288 with 1 Axes>"
      ]
     },
     "metadata": {},
     "output_type": "display_data"
    }
   ],
   "source": [
    "nx.draw(G, pos = pos, with_labels = False, node_size = 5)"
   ]
  },
  {
   "cell_type": "code",
   "execution_count": 70,
   "metadata": {},
   "outputs": [],
   "source": [
    "shortestpath_dict = {}\n",
    "\n",
    "def find_shortest_path(graph, a,b):\n",
    "    if (a,b) in shortestpath_dict:\n",
    "        p = shortestpath_dict[(a,b)]\n",
    "    else:\n",
    "        p = nx.shortest_path(graph, source=a, target=b, weight = 'weight')\n",
    "        shortestpath_dict.update({(a,b):p})\n",
    "    return p"
   ]
  },
  {
   "cell_type": "code",
   "execution_count": 71,
   "metadata": {},
   "outputs": [
    {
     "data": {
      "text/html": [
       "<div>\n",
       "<style scoped>\n",
       "    .dataframe tbody tr th:only-of-type {\n",
       "        vertical-align: middle;\n",
       "    }\n",
       "\n",
       "    .dataframe tbody tr th {\n",
       "        vertical-align: top;\n",
       "    }\n",
       "\n",
       "    .dataframe thead th {\n",
       "        text-align: right;\n",
       "    }\n",
       "</style>\n",
       "<table border=\"1\" class=\"dataframe\">\n",
       "  <thead>\n",
       "    <tr style=\"text-align: right;\">\n",
       "      <th></th>\n",
       "      <th>index</th>\n",
       "      <th>road</th>\n",
       "      <th>id</th>\n",
       "      <th>model_type</th>\n",
       "      <th>condition</th>\n",
       "      <th>name</th>\n",
       "      <th>lat</th>\n",
       "      <th>lon</th>\n",
       "      <th>length</th>\n",
       "      <th>bridge_name</th>\n",
       "    </tr>\n",
       "  </thead>\n",
       "  <tbody>\n",
       "    <tr>\n",
       "      <th>0</th>\n",
       "      <td>0</td>\n",
       "      <td>N1</td>\n",
       "      <td>1000000</td>\n",
       "      <td>sourcesink</td>\n",
       "      <td>NaN</td>\n",
       "      <td>SoSi1</td>\n",
       "      <td>23.706028</td>\n",
       "      <td>90.443333</td>\n",
       "      <td>0.0</td>\n",
       "      <td>NaN</td>\n",
       "    </tr>\n",
       "    <tr>\n",
       "      <th>1</th>\n",
       "      <td>1779</td>\n",
       "      <td>N102</td>\n",
       "      <td>1001782</td>\n",
       "      <td>sourcesink</td>\n",
       "      <td>NaN</td>\n",
       "      <td>SoSi2</td>\n",
       "      <td>24.050611</td>\n",
       "      <td>91.114667</td>\n",
       "      <td>549.0</td>\n",
       "      <td>NaN</td>\n",
       "    </tr>\n",
       "    <tr>\n",
       "      <th>2</th>\n",
       "      <td>1910</td>\n",
       "      <td>N104</td>\n",
       "      <td>1001913</td>\n",
       "      <td>sourcesink</td>\n",
       "      <td>NaN</td>\n",
       "      <td>SoSi3</td>\n",
       "      <td>22.825749</td>\n",
       "      <td>91.101444</td>\n",
       "      <td>120.0</td>\n",
       "      <td>NaN</td>\n",
       "    </tr>\n",
       "    <tr>\n",
       "      <th>3</th>\n",
       "      <td>2873</td>\n",
       "      <td>N2</td>\n",
       "      <td>1002995</td>\n",
       "      <td>sourcesink</td>\n",
       "      <td>NaN</td>\n",
       "      <td>SoSi4</td>\n",
       "      <td>25.157056</td>\n",
       "      <td>92.017638</td>\n",
       "      <td>256.0</td>\n",
       "      <td>NaN</td>\n",
       "    </tr>\n",
       "    <tr>\n",
       "      <th>4</th>\n",
       "      <td>3165</td>\n",
       "      <td>N207</td>\n",
       "      <td>1003289</td>\n",
       "      <td>sourcesink</td>\n",
       "      <td>NaN</td>\n",
       "      <td>SoSi5</td>\n",
       "      <td>24.626333</td>\n",
       "      <td>91.677527</td>\n",
       "      <td>350.0</td>\n",
       "      <td>NaN</td>\n",
       "    </tr>\n",
       "  </tbody>\n",
       "</table>\n",
       "</div>"
      ],
      "text/plain": [
       "   index  road       id  model_type condition   name        lat        lon  \\\n",
       "0      0    N1  1000000  sourcesink       NaN  SoSi1  23.706028  90.443333   \n",
       "1   1779  N102  1001782  sourcesink       NaN  SoSi2  24.050611  91.114667   \n",
       "2   1910  N104  1001913  sourcesink       NaN  SoSi3  22.825749  91.101444   \n",
       "3   2873    N2  1002995  sourcesink       NaN  SoSi4  25.157056  92.017638   \n",
       "4   3165  N207  1003289  sourcesink       NaN  SoSi5  24.626333  91.677527   \n",
       "\n",
       "   length bridge_name  \n",
       "0     0.0         NaN  \n",
       "1   549.0         NaN  \n",
       "2   120.0         NaN  \n",
       "3   256.0         NaN  \n",
       "4   350.0         NaN  "
      ]
     },
     "execution_count": 71,
     "metadata": {},
     "output_type": "execute_result"
    }
   ],
   "source": [
    "sourcesinks = df.loc[df['model_type'] == \"sourcesink\"]\n",
    "sourcesinks = sourcesinks.reset_index()\n",
    "sourcesinks.head()"
   ]
  },
  {
   "cell_type": "code",
   "execution_count": 72,
   "metadata": {},
   "outputs": [
    {
     "data": {
      "text/plain": [
       "[1001784, 1005956]"
      ]
     },
     "execution_count": 72,
     "metadata": {},
     "output_type": "execute_result"
    }
   ],
   "source": [
    "# show it works\n",
    "find_shortest_path(G,1001784,1005956)"
   ]
  },
  {
   "cell_type": "code",
   "execution_count": 59,
   "metadata": {},
   "outputs": [
    {
     "name": "stdout",
     "output_type": "stream",
     "text": [
      "0.0 percent of the paths could not be found\n"
     ]
    }
   ],
   "source": [
    "found = 0\n",
    "not_found = 0\n",
    "for i, row in sourcesinks.iterrows():\n",
    "    for j in range(1,len(sourcesinks)):\n",
    "        try:\n",
    "            find_shortest_path(G,row['id'],sourcesinks.iloc[j,2])\n",
    "            #print(\"found path between\",row['road'], \"and\", sourcesinks.iloc[j,1])\n",
    "            found +=1\n",
    "        except:\n",
    "            print(\"could not find a path between\",row['road'], \"and\", sourcesinks.iloc[j,1])\n",
    "            not_found +=1\n",
    "print(not_found/found*100,\"percent of the paths could not be found\")"
   ]
  },
  {
   "cell_type": "markdown",
   "metadata": {},
   "source": [
    "## Network metrics calculation"
   ]
  },
  {
   "cell_type": "code",
   "execution_count": 103,
   "metadata": {},
   "outputs": [],
   "source": [
    "# compute the closeness centrality (takes a long time)\n",
    "\n",
    "closenessdict = nx.closeness_centrality(G)"
   ]
  },
  {
   "cell_type": "code",
   "execution_count": 104,
   "metadata": {},
   "outputs": [],
   "source": [
    "# compute the betweenness centrality (takes a long time)\n",
    "\n",
    "betweennessdict = nx.betweenness_centrality(G)"
   ]
  },
  {
   "cell_type": "code",
   "execution_count": 109,
   "metadata": {},
   "outputs": [],
   "source": [
    "# compute the degree centrality (runs quickly)\n",
    "\n",
    "degreecentralitydict = nx.degree_centrality(G)"
   ]
  },
  {
   "cell_type": "code",
   "execution_count": 115,
   "metadata": {},
   "outputs": [
    {
     "name": "stderr",
     "output_type": "stream",
     "text": [
      "<ipython-input-115-a91af60edcef>:5: SettingWithCopyWarning: \n",
      "A value is trying to be set on a copy of a slice from a DataFrame.\n",
      "Try using .loc[row_indexer,col_indexer] = value instead\n",
      "\n",
      "See the caveats in the documentation: https://pandas.pydata.org/pandas-docs/stable/user_guide/indexing.html#returning-a-view-versus-a-copy\n",
      "  bridgemetrics['betweenness_centrality'] = ''\n",
      "<ipython-input-115-a91af60edcef>:6: SettingWithCopyWarning: \n",
      "A value is trying to be set on a copy of a slice from a DataFrame.\n",
      "Try using .loc[row_indexer,col_indexer] = value instead\n",
      "\n",
      "See the caveats in the documentation: https://pandas.pydata.org/pandas-docs/stable/user_guide/indexing.html#returning-a-view-versus-a-copy\n",
      "  bridgemetrics['closeness_centrality'] = ''\n",
      "<ipython-input-115-a91af60edcef>:7: SettingWithCopyWarning: \n",
      "A value is trying to be set on a copy of a slice from a DataFrame.\n",
      "Try using .loc[row_indexer,col_indexer] = value instead\n",
      "\n",
      "See the caveats in the documentation: https://pandas.pydata.org/pandas-docs/stable/user_guide/indexing.html#returning-a-view-versus-a-copy\n",
      "  bridgemetrics['degreecentrality_centrality'] = ''\n",
      "<ipython-input-115-a91af60edcef>:10: SettingWithCopyWarning: \n",
      "A value is trying to be set on a copy of a slice from a DataFrame\n",
      "\n",
      "See the caveats in the documentation: https://pandas.pydata.org/pandas-docs/stable/user_guide/indexing.html#returning-a-view-versus-a-copy\n",
      "  bridgemetrics['closeness_centrality'][i] = closenessdict[row['id']]\n",
      "C:\\Users\\Eigenaar\\anaconda3\\lib\\site-packages\\IPython\\core\\interactiveshell.py:3343: SettingWithCopyWarning: \n",
      "A value is trying to be set on a copy of a slice from a DataFrame\n",
      "\n",
      "See the caveats in the documentation: https://pandas.pydata.org/pandas-docs/stable/user_guide/indexing.html#returning-a-view-versus-a-copy\n",
      "  exec(code_obj, self.user_global_ns, self.user_ns)\n",
      "<ipython-input-115-a91af60edcef>:11: SettingWithCopyWarning: \n",
      "A value is trying to be set on a copy of a slice from a DataFrame\n",
      "\n",
      "See the caveats in the documentation: https://pandas.pydata.org/pandas-docs/stable/user_guide/indexing.html#returning-a-view-versus-a-copy\n",
      "  bridgemetrics['betweenness_centrality'][i] = betweennessdict[row['id']]\n",
      "<ipython-input-115-a91af60edcef>:12: SettingWithCopyWarning: \n",
      "A value is trying to be set on a copy of a slice from a DataFrame\n",
      "\n",
      "See the caveats in the documentation: https://pandas.pydata.org/pandas-docs/stable/user_guide/indexing.html#returning-a-view-versus-a-copy\n",
      "  bridgemetrics['degreecentrality_centrality'][i] = degreecentralitydict[row['id']]\n"
     ]
    }
   ],
   "source": [
    "# save the results in a dataframe (throws some warnings which you can ignore)\n",
    "\n",
    "bridges = df.loc[df['model_type'] == \"bridge\"]\n",
    "bridgemetrics = bridges[['road','id','condition','bridge_name']]\n",
    "bridgemetrics['betweenness_centrality'] = ''\n",
    "bridgemetrics['closeness_centrality'] = ''\n",
    "bridgemetrics['degreecentrality_centrality'] = ''\n",
    "\n",
    "for i,row in bridgemetrics.iterrows():\n",
    "    bridgemetrics['closeness_centrality'][i] = closenessdict[row['id']]\n",
    "    bridgemetrics['betweenness_centrality'][i] = betweennessdict[row['id']]\n",
    "    bridgemetrics['degreecentrality_centrality'][i] = degreecentralitydict[row['id']]"
   ]
  },
  {
   "cell_type": "code",
   "execution_count": 116,
   "metadata": {},
   "outputs": [
    {
     "data": {
      "text/html": [
       "<div>\n",
       "<style scoped>\n",
       "    .dataframe tbody tr th:only-of-type {\n",
       "        vertical-align: middle;\n",
       "    }\n",
       "\n",
       "    .dataframe tbody tr th {\n",
       "        vertical-align: top;\n",
       "    }\n",
       "\n",
       "    .dataframe thead th {\n",
       "        text-align: right;\n",
       "    }\n",
       "</style>\n",
       "<table border=\"1\" class=\"dataframe\">\n",
       "  <thead>\n",
       "    <tr style=\"text-align: right;\">\n",
       "      <th></th>\n",
       "      <th>road</th>\n",
       "      <th>id</th>\n",
       "      <th>condition</th>\n",
       "      <th>bridge_name</th>\n",
       "      <th>betweenness_centrality</th>\n",
       "      <th>closeness_centrality</th>\n",
       "      <th>degreecentrality_centrality</th>\n",
       "    </tr>\n",
       "  </thead>\n",
       "  <tbody>\n",
       "    <tr>\n",
       "      <th>4</th>\n",
       "      <td>N1</td>\n",
       "      <td>1000004</td>\n",
       "      <td>A</td>\n",
       "      <td>bridge at id 1000004</td>\n",
       "      <td>0.00136799</td>\n",
       "      <td>0.00135654</td>\n",
       "      <td>0.000342173</td>\n",
       "    </tr>\n",
       "    <tr>\n",
       "      <th>10</th>\n",
       "      <td>N1</td>\n",
       "      <td>1000010</td>\n",
       "      <td>A</td>\n",
       "      <td>bridge at id 1000010</td>\n",
       "      <td>0.00341646</td>\n",
       "      <td>0.00136765</td>\n",
       "      <td>0.000342173</td>\n",
       "    </tr>\n",
       "    <tr>\n",
       "      <th>17</th>\n",
       "      <td>N1</td>\n",
       "      <td>1000017</td>\n",
       "      <td>C</td>\n",
       "      <td>KANCHPUR PC GIRDER BRIDGE</td>\n",
       "      <td>0.00580101</td>\n",
       "      <td>0.00138081</td>\n",
       "      <td>0.000342173</td>\n",
       "    </tr>\n",
       "    <tr>\n",
       "      <th>20</th>\n",
       "      <td>N1</td>\n",
       "      <td>1000021</td>\n",
       "      <td>B</td>\n",
       "      <td>KATCHPUR BOX CULVERT</td>\n",
       "      <td>0.00682121</td>\n",
       "      <td>0.00138651</td>\n",
       "      <td>0.000342173</td>\n",
       "    </tr>\n",
       "    <tr>\n",
       "      <th>21</th>\n",
       "      <td>N1</td>\n",
       "      <td>1000022</td>\n",
       "      <td>A</td>\n",
       "      <td>NOYAPARA CULVERT</td>\n",
       "      <td>0.00716104</td>\n",
       "      <td>0.00138843</td>\n",
       "      <td>0.000342173</td>\n",
       "    </tr>\n",
       "  </tbody>\n",
       "</table>\n",
       "</div>"
      ],
      "text/plain": [
       "   road       id condition                bridge_name betweenness_centrality  \\\n",
       "4    N1  1000004         A       bridge at id 1000004             0.00136799   \n",
       "10   N1  1000010         A       bridge at id 1000010             0.00341646   \n",
       "17   N1  1000017         C  KANCHPUR PC GIRDER BRIDGE             0.00580101   \n",
       "20   N1  1000021         B       KATCHPUR BOX CULVERT             0.00682121   \n",
       "21   N1  1000022         A           NOYAPARA CULVERT             0.00716104   \n",
       "\n",
       "   closeness_centrality degreecentrality_centrality  \n",
       "4            0.00135654                 0.000342173  \n",
       "10           0.00136765                 0.000342173  \n",
       "17           0.00138081                 0.000342173  \n",
       "20           0.00138651                 0.000342173  \n",
       "21           0.00138843                 0.000342173  "
      ]
     },
     "execution_count": 116,
     "metadata": {},
     "output_type": "execute_result"
    }
   ],
   "source": [
    "# show it worked\n",
    "\n",
    "bridgemetrics.head()"
   ]
  },
  {
   "cell_type": "code",
   "execution_count": 114,
   "metadata": {},
   "outputs": [],
   "source": [
    "# Save the results to csv \n",
    "bridgemetrics.to_csv(\"../data/output/network_metrics.csv\", index=None)"
   ]
  }
 ],
 "metadata": {
  "kernelspec": {
   "display_name": "Python 3",
   "language": "python",
   "name": "python3"
  },
  "language_info": {
   "codemirror_mode": {
    "name": "ipython",
    "version": 3
   },
   "file_extension": ".py",
   "mimetype": "text/x-python",
   "name": "python",
   "nbconvert_exporter": "python",
   "pygments_lexer": "ipython3",
   "version": "3.8.3"
  }
 },
 "nbformat": 4,
 "nbformat_minor": 2
}
